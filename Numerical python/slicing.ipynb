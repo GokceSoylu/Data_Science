{
 "cells": [
  {
   "cell_type": "markdown",
   "metadata": {},
   "source": [
    "#   Slicing dilimleme\n",
    "## one dimention\n",
    "### * array_name(start:end:step)\n",
    "### * array_name[:end] array_name(start:) array_name[:] array_name[::step] \n",
    "### if it's gap for start = 0, end = sizeofarray-1,  step = 1  \n",
    "\n",
    "## multi dimention\n",
    "### same logic just you do it dimention time with seperation them comma\n",
    "### * matris[start:end:step , start:end:step]"
   ]
  },
  {
   "cell_type": "code",
   "execution_count": 13,
   "metadata": {},
   "outputs": [
    {
     "name": "stdout",
     "output_type": "stream",
     "text": [
      "[[94  8 61 33]\n",
      " [12 15 64 98]\n",
      " [ 9 61 15 76]\n",
      " [96 48 92  2]]\n",
      "[[94 33]\n",
      " [96  2]]\n",
      "94\n"
     ]
    },
    {
     "data": {
      "text/plain": [
       "array([[15, 64],\n",
       "       [61, 15]])"
      ]
     },
     "execution_count": 13,
     "metadata": {},
     "output_type": "execute_result"
    }
   ],
   "source": [
    "import numpy as np\n",
    "matris=np.random.randint(0,100,size=(4,4))\n",
    "print(matris[:,:])#yani hocam C'deki gibi [][] ifadesiyle ulaşmak yok [,] kullanmallıyız\n",
    "print(matris[0::3,0::3])\n",
    "print(matris[0,0])\n",
    "matris[1:3,1:3]"
   ]
  },
  {
   "cell_type": "code",
   "execution_count": null,
   "metadata": {},
   "outputs": [],
   "source": []
  }
 ],
 "metadata": {
  "kernelspec": {
   "display_name": "Python 3.9.6 64-bit",
   "language": "python",
   "name": "python3"
  },
  "language_info": {
   "codemirror_mode": {
    "name": "ipython",
    "version": 3
   },
   "file_extension": ".py",
   "mimetype": "text/x-python",
   "name": "python",
   "nbconvert_exporter": "python",
   "pygments_lexer": "ipython3",
   "version": "3.9.6"
  },
  "orig_nbformat": 4,
  "vscode": {
   "interpreter": {
    "hash": "31f2aee4e71d21fbe5cf8b01ff0e069b9275f58929596ceb00d14d90e3e16cd6"
   }
  }
 },
 "nbformat": 4,
 "nbformat_minor": 2
}
