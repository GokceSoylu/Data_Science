{
 "cells": [
  {
   "cell_type": "markdown",
   "metadata": {},
   "source": [
    "# sort(array)\n",
    "\n",
    "tek boyutlu sort(array_name)\n",
    "\n",
    "matris  sort(array_name,axis)\n",
    "\n",
    "Not: fonksiyonalrı oop mantiğiyla arr.function() diyed çalıştırabilyorduk, np.function() diye de çalıştırabiliyorduk.\n",
    "\n",
    "farko oop mantiği ile çalıştırdığında atama yapmasanda değişiklikten etkilernir. diğeri ise (kütüphaneyle çağırma) \n",
    "\n",
    "fonksiyonel programlama mantığıyla çalılşır. atama yapmassan etkilenmez :))"
   ]
  },
  {
   "cell_type": "code",
   "execution_count": 6,
   "metadata": {},
   "outputs": [
    {
     "data": {
      "text/plain": [
       "array([9, 0, 4, 7, 9])"
      ]
     },
     "execution_count": 6,
     "metadata": {},
     "output_type": "execute_result"
    }
   ],
   "source": [
    "import numpy as np\n",
    "ar=np.random.randint(0,10,5)\n",
    "ar"
   ]
  },
  {
   "cell_type": "code",
   "execution_count": 10,
   "metadata": {},
   "outputs": [],
   "source": [
    "np.sort(ar)\n",
    "ar\n",
    "ar.sort() # dikkat edelim biri metod biri function."
   ]
  },
  {
   "cell_type": "code",
   "execution_count": 23,
   "metadata": {},
   "outputs": [
    {
     "name": "stdout",
     "output_type": "stream",
     "text": [
      "[[ 0  4  7  9  9]\n",
      " [14 14 14 16 12]\n",
      " [ 8 12  9 12  6]]\n"
     ]
    },
    {
     "data": {
      "text/plain": [
       "array([[ 0,  4,  7,  9,  9],\n",
       "       [12, 14, 14, 14, 16],\n",
       "       [ 6,  8,  9, 12, 12]])"
      ]
     },
     "execution_count": 23,
     "metadata": {},
     "output_type": "execute_result"
    }
   ],
   "source": [
    "ar2=np.random.randint(10,20,5)\n",
    "ar3=np.random.randint(5,15,5)\n",
    "arr=np.concatenate([ar,ar2,ar3])\n",
    "arr=np.reshape(arr,(3,5))\n",
    "print(arr[:][:])\n",
    "arr.sort(axis=1)\n",
    "arr"
   ]
  }
 ],
 "metadata": {
  "kernelspec": {
   "display_name": "Python 3.9.6 64-bit",
   "language": "python",
   "name": "python3"
  },
  "language_info": {
   "codemirror_mode": {
    "name": "ipython",
    "version": 3
   },
   "file_extension": ".py",
   "mimetype": "text/x-python",
   "name": "python",
   "nbconvert_exporter": "python",
   "pygments_lexer": "ipython3",
   "version": "3.9.6"
  },
  "orig_nbformat": 4,
  "vscode": {
   "interpreter": {
    "hash": "31f2aee4e71d21fbe5cf8b01ff0e069b9275f58929596ceb00d14d90e3e16cd6"
   }
  }
 },
 "nbformat": 4,
 "nbformat_minor": 2
}
