{
 "cells": [
  {
   "cell_type": "markdown",
   "metadata": {},
   "source": [
    "## concatenate([],axis) function\n",
    "iki yada üç arrayi birleştirebilirsin :))\n",
    "not: python'da matris oluşturuken dışada bir[] konuru mesala iki boyutlu 2:2 lik a=[[ 1,2 ],[ 3,4 ]] şeklidne yazılı\n",
    "axis=eksen tipini belli eder 0=satir, 1=sutun --> yani 1=ikisini alt alta koy, 0=yan yana koy"
   ]
  },
  {
   "cell_type": "code",
   "execution_count": 31,
   "metadata": {},
   "outputs": [
    {
     "data": {
      "text/plain": [
       "array([ 1,  2,  3,  4,  5,  6,  7,  8,  9, 10])"
      ]
     },
     "execution_count": 31,
     "metadata": {},
     "output_type": "execute_result"
    }
   ],
   "source": [
    "import numpy as np\n",
    "a=[1,2,3,4]\n",
    "b=[5,6,7]\n",
    "c=[8,9,10]\n",
    "np.concatenate([a,b,c],0)"
   ]
  },
  {
   "cell_type": "code",
   "execution_count": 23,
   "metadata": {},
   "outputs": [],
   "source": [
    "m=np.array([[[1,2,3,4],[5,6,7,9],[10,11,12,14]]],dtype=\"int\")\n",
    "m2=np.array([[[12,13,14,12],[3,4,5,3],[3,6,4,7]]])"
   ]
  },
  {
   "cell_type": "code",
   "execution_count": 34,
   "metadata": {},
   "outputs": [
    {
     "data": {
      "text/plain": [
       "array([[[ 1,  2,  3,  4],\n",
       "        [ 5,  6,  7,  9],\n",
       "        [10, 11, 12, 14]],\n",
       "\n",
       "       [[12, 13, 14, 12],\n",
       "        [ 3,  4,  5,  3],\n",
       "        [ 3,  6,  4,  7]]])"
      ]
     },
     "execution_count": 34,
     "metadata": {},
     "output_type": "execute_result"
    }
   ],
   "source": [
    "m12=np.concatenate([m,m2],axis=0)\n",
    "m12"
   ]
  },
  {
   "cell_type": "code",
   "execution_count": 33,
   "metadata": {},
   "outputs": [
    {
     "data": {
      "text/plain": [
       "array([[[ 1,  2,  3,  4],\n",
       "        [ 5,  6,  7,  9],\n",
       "        [10, 11, 12, 14]],\n",
       "\n",
       "       [[12, 13, 14, 12],\n",
       "        [ 3,  4,  5,  3],\n",
       "        [ 3,  6,  4,  7]]])"
      ]
     },
     "execution_count": 33,
     "metadata": {},
     "output_type": "execute_result"
    }
   ],
   "source": [
    "m13=np.concatenate([m,m2],axis=0)\n",
    "m13"
   ]
  },
  {
   "cell_type": "code",
   "execution_count": null,
   "metadata": {},
   "outputs": [],
   "source": []
  }
 ],
 "metadata": {
  "kernelspec": {
   "display_name": "Python 3.9.6 64-bit",
   "language": "python",
   "name": "python3"
  },
  "language_info": {
   "codemirror_mode": {
    "name": "ipython",
    "version": 3
   },
   "file_extension": ".py",
   "mimetype": "text/x-python",
   "name": "python",
   "nbconvert_exporter": "python",
   "pygments_lexer": "ipython3",
   "version": "3.9.6"
  },
  "orig_nbformat": 4,
  "vscode": {
   "interpreter": {
    "hash": "31f2aee4e71d21fbe5cf8b01ff0e069b9275f58929596ceb00d14d90e3e16cd6"
   }
  }
 },
 "nbformat": 4,
 "nbformat_minor": 2
}
