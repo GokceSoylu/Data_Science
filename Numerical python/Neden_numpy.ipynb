{
 "cells": [
  {
   "cell_type": "markdown",
   "metadata": {},
   "source": [
    "# Neden Numpy"
   ]
  },
  {
   "cell_type": "code",
   "execution_count": 1,
   "metadata": {},
   "outputs": [
    {
     "data": {
      "text/plain": [
       "[6, 7, 8, 9, 10]"
      ]
     },
     "execution_count": 1,
     "metadata": {},
     "output_type": "execute_result"
    }
   ],
   "source": [
    "a=[1,2,3,4,5]\n",
    "b=[6,7,8,9,10]\n",
    "b"
   ]
  },
  {
   "cell_type": "markdown",
   "metadata": {},
   "source": [
    "hücresel çalışma sağlar.\n",
    "mesela yukarıda son yazdığımızı çalıştırır. \n",
    "veri saklama açısından çok daha iyidir. mesala ikinci ornekte dziler her bir elemnaı için ayrı ayrı yer tutarken.\n",
    "array() foksiyonu sayesinde numpy da bşr array için bir tane yer tutulur. yani beş elemanlı bir dizi içn beş kat daha iyi veri saklama yeteği vardır.\n",
    "bunun yanı sıra vektörel işlemlerde kolylık sağşar. v-mesela vektörel çarpma için uzun yaomaktanas * yaparız.\n"
   ]
  },
  {
   "cell_type": "code",
   "execution_count": 3,
   "metadata": {},
   "outputs": [],
   "source": [
    "a=[1,2,3,4,5]\n",
    "b=[6,7,8,9,10]\n",
    "ab=[]\n",
    "for itr in range (0,len(a)):\n",
    "    ab.append(a[itr]*b[itr])\n"
   ]
  },
  {
   "cell_type": "code",
   "execution_count": 4,
   "metadata": {},
   "outputs": [],
   "source": [
    "import numpy as np\n",
    "a=np.array([1,2,3,4,5]) #dikkat kütüphane fonksiyonunu çalıştırmak için . kullanırız oop mantığından dolayı\n",
    "b=np.array([6,7,8,9,10])\n",
    "ab=a*b"
   ]
  }
 ],
 "metadata": {
  "kernelspec": {
   "display_name": "Python 3.9.6 64-bit",
   "language": "python",
   "name": "python3"
  },
  "language_info": {
   "codemirror_mode": {
    "name": "ipython",
    "version": 3
   },
   "file_extension": ".py",
   "mimetype": "text/x-python",
   "name": "python",
   "nbconvert_exporter": "python",
   "pygments_lexer": "ipython3",
   "version": "3.9.6"
  },
  "orig_nbformat": 4,
  "vscode": {
   "interpreter": {
    "hash": "31f2aee4e71d21fbe5cf8b01ff0e069b9275f58929596ceb00d14d90e3e16cd6"
   }
  }
 },
 "nbformat": 4,
 "nbformat_minor": 2
}
