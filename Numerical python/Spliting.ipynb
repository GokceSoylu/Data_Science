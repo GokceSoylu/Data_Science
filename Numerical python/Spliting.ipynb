{
 "cells": [
  {
   "cell_type": "markdown",
   "metadata": {},
   "source": [
    "# split() fuction\n",
    "\n",
    "arrayleri ayırır.\n",
    "\n",
    "**numpy.siplit(array,[indis ])**\n",
    "\n",
    "numpy.vsplit(matris,[inis ]) vertical diviser (according to row indis)\n",
    "\n",
    "\n",
    "numpy.hsplit(matris,[indis ]) horizontal diviser (according to column indis)"
   ]
  },
  {
   "cell_type": "code",
   "execution_count": 25,
   "metadata": {},
   "outputs": [],
   "source": [
    "import numpy as np"
   ]
  },
  {
   "cell_type": "code",
   "execution_count": 26,
   "metadata": {},
   "outputs": [],
   "source": [
    "a=[1,2,3,4,5] #hocam bu bir liste erkan bu pastaa 😅\n",
    "ar=np.array([6,7,8,9]) #bu ise numpy array netleşti mi :)"
   ]
  },
  {
   "cell_type": "code",
   "execution_count": 27,
   "metadata": {},
   "outputs": [
    {
     "data": {
      "text/plain": [
       "array([1, 2, 3, 4, 5, 6, 7, 8, 9])"
      ]
     },
     "execution_count": 27,
     "metadata": {},
     "output_type": "execute_result"
    }
   ],
   "source": [
    "ara=np.concatenate((a,ar)) # bu ne şimdi? ayırmadık. öyle havalı olsun diye yaptım bunun ayırmayla alakası yok :))\n",
    "ara"
   ]
  },
  {
   "cell_type": "code",
   "execution_count": 28,
   "metadata": {},
   "outputs": [
    {
     "data": {
      "text/plain": [
       "[array([1]), array([2, 3, 4]), array([5, 6, 7, 8, 9])]"
      ]
     },
     "execution_count": 28,
     "metadata": {},
     "output_type": "execute_result"
    }
   ],
   "source": [
    "array=np.split(ara,[1,4])\n",
    "array"
   ]
  },
  {
   "cell_type": "code",
   "execution_count": 29,
   "metadata": {},
   "outputs": [
    {
     "data": {
      "text/plain": [
       "[array([1, 2]), array([3, 4, 5])]"
      ]
     },
     "execution_count": 29,
     "metadata": {},
     "output_type": "execute_result"
    }
   ],
   "source": [
    "array2=np.split(a,[2])\n",
    "array2"
   ]
  },
  {
   "cell_type": "code",
   "execution_count": 30,
   "metadata": {},
   "outputs": [
    {
     "data": {
      "text/plain": [
       "[array([1]), array([2, 3]), array([4, 5]), array([6, 7]), array([8, 9])]"
      ]
     },
     "execution_count": 30,
     "metadata": {},
     "output_type": "execute_result"
    }
   ],
   "source": [
    "array3=np.split(ara,[1,3,5,7])\n",
    "array3"
   ]
  },
  {
   "cell_type": "markdown",
   "metadata": {},
   "source": [
    "## vsplit(matris_name,[indis ])"
   ]
  },
  {
   "cell_type": "code",
   "execution_count": 31,
   "metadata": {},
   "outputs": [
    {
     "data": {
      "text/plain": [
       "array([[ 1,  2,  3],\n",
       "       [ 4,  5,  6],\n",
       "       [ 7,  8,  9],\n",
       "       [10, 11, 12]])"
      ]
     },
     "execution_count": 31,
     "metadata": {},
     "output_type": "execute_result"
    }
   ],
   "source": [
    "x=np.array([[1,2,3,],[4,5,6],[7,8,9],[10,11,12]])\n",
    "x"
   ]
  },
  {
   "cell_type": "code",
   "execution_count": 32,
   "metadata": {},
   "outputs": [
    {
     "data": {
      "text/plain": [
       "(4, 3)"
      ]
     },
     "execution_count": 32,
     "metadata": {},
     "output_type": "execute_result"
    }
   ],
   "source": [
    "x.ndim\n",
    "x.shape"
   ]
  },
  {
   "cell_type": "code",
   "execution_count": 33,
   "metadata": {},
   "outputs": [],
   "source": [
    "y,z=np.vsplit(x,[2])"
   ]
  },
  {
   "cell_type": "code",
   "execution_count": 34,
   "metadata": {},
   "outputs": [
    {
     "data": {
      "text/plain": [
       "(array([[ 7,  8,  9],\n",
       "        [10, 11, 12]]),\n",
       " array([[1, 2, 3],\n",
       "        [4, 5, 6]]))"
      ]
     },
     "execution_count": 34,
     "metadata": {},
     "output_type": "execute_result"
    }
   ],
   "source": [
    "\n",
    "z,y"
   ]
  },
  {
   "cell_type": "code",
   "execution_count": 10,
   "metadata": {},
   "outputs": [],
   "source": [
    "mat=np.array([[1,2,3],[4,5,6]])\n",
    "m,t=np.vsplit(mat,[1])\n",
    "a1=t\n",
    "a2=m"
   ]
  },
  {
   "cell_type": "code",
   "execution_count": 35,
   "metadata": {},
   "outputs": [
    {
     "data": {
      "text/plain": [
       "array([[4, 5, 6],\n",
       "       [1, 2, 3]])"
      ]
     },
     "execution_count": 35,
     "metadata": {},
     "output_type": "execute_result"
    }
   ],
   "source": [
    "mat=np.concatenate([a1,a2],axis=0)\n",
    "mat #done :))"
   ]
  },
  {
   "cell_type": "markdown",
   "metadata": {},
   "source": [
    "## hsplit(array,[indis ])\n",
    "\n",
    "* örnek matris  [[a][b][c][d]]  şeklinde olsun bunu  [[d]][b][c][a]] şekline çevirelim\n",
    "             \n",
    "bu horizontal bolme olmadı. o zaman \n",
    "\n",
    "* ornek2 [[1,2,3],[4,5,6],[7,8,9]] matrisini [[1,4,7],[2,5,8],[9,6,3]] şekline getirelim. determinant yani :))\n",
    "              "
   ]
  },
  {
   "cell_type": "code",
   "execution_count": 36,
   "metadata": {},
   "outputs": [],
   "source": [
    "matris=np.array([[1,2],[3,4]])\n",
    "                                        "
   ]
  },
  {
   "cell_type": "code",
   "execution_count": 37,
   "metadata": {},
   "outputs": [
    {
     "data": {
      "text/plain": [
       "array([[4, 2],\n",
       "       [3, 1]])"
      ]
     },
     "execution_count": 37,
     "metadata": {},
     "output_type": "execute_result"
    }
   ],
   "source": [
    "ma1,ma2=np.vsplit(matris,[1])\n",
    "ma1=np.reshape(ma1,(-1))\n",
    "ma2=np.reshape(ma2,(-1))\n",
    "ma1a,ma1b=np.split(ma1,[1])\n",
    "ma2a,ma2b=np.split(ma2,[1])\n",
    "ma1=np.concatenate([ma2b,ma1b])\n",
    "ma2=np.concatenate([ma2a,ma1a])\n",
    "mat=np.concatenate([ma1,ma2])\n",
    "matris=np.reshape(mat,(2,2))\n",
    "matris"
   ]
  },
  {
   "cell_type": "code",
   "execution_count": 43,
   "metadata": {},
   "outputs": [
    {
     "data": {
      "text/plain": [
       "array([[1, 2, 3],\n",
       "       [4, 5, 6],\n",
       "       [7, 8, 9]])"
      ]
     },
     "execution_count": 43,
     "metadata": {},
     "output_type": "execute_result"
    }
   ],
   "source": [
    "or2=np.array([[1,2,3],[4,5,6],[7,8,9]])\n",
    "or2"
   ]
  },
  {
   "cell_type": "code",
   "execution_count": 44,
   "metadata": {},
   "outputs": [],
   "source": [
    "or2a,or2b,or2c=np.hsplit(or2,[1,2])\n",
    "or2a=np.reshape(or2a,(1,3))\n",
    "or2b=np.reshape(or2b,(1,3))\n",
    "or2c=np.reshape(or2c,(1,3))"
   ]
  },
  {
   "cell_type": "code",
   "execution_count": 45,
   "metadata": {},
   "outputs": [
    {
     "data": {
      "text/plain": [
       "array([[1, 4, 7],\n",
       "       [2, 5, 8],\n",
       "       [3, 6, 9]])"
      ]
     },
     "execution_count": 45,
     "metadata": {},
     "output_type": "execute_result"
    }
   ],
   "source": [
    "or2=np.concatenate([or2a,or2b,or2c],axis=0) #congratulations dear :))\n",
    "or2"
   ]
  }
 ],
 "metadata": {
  "kernelspec": {
   "display_name": "Python 3.9.6 64-bit",
   "language": "python",
   "name": "python3"
  },
  "language_info": {
   "codemirror_mode": {
    "name": "ipython",
    "version": 3
   },
   "file_extension": ".py",
   "mimetype": "text/x-python",
   "name": "python",
   "nbconvert_exporter": "python",
   "pygments_lexer": "ipython3",
   "version": "3.9.6"
  },
  "orig_nbformat": 4,
  "vscode": {
   "interpreter": {
    "hash": "31f2aee4e71d21fbe5cf8b01ff0e069b9275f58929596ceb00d14d90e3e16cd6"
   }
  }
 },
 "nbformat": 4,
 "nbformat_minor": 2
}
