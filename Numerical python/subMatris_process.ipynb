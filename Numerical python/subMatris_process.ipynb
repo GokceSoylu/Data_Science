{
 "cells": [
  {
   "cell_type": "markdown",
   "metadata": {},
   "source": [
    "### * proccesing submatris \n",
    "### * hadle submtris \n",
    "### * copy method\n",
    "\n",
    "copy metodu kullanırsak yapılan değişikliklerden ana matris etkilenmez."
   ]
  },
  {
   "cell_type": "code",
   "execution_count": 42,
   "metadata": {},
   "outputs": [
    {
     "data": {
      "text/plain": [
       "array([[56, 64, 74, 22, 83, 41, 81, 12, 83, 78, 36, 97],\n",
       "       [42, 63, 64, 28, 18, 49, 32, 31, 78, 94, 37, 80],\n",
       "       [21, 76, 65, 53, 18, 21, 35, 42, 52, 73, 80, 80],\n",
       "       [97, 79, 59, 59, 53, 29, 59, 13, 53, 79, 85, 22],\n",
       "       [37, 21, 97, 99, 74, 20, 53, 56, 75, 81, 77, 48],\n",
       "       [92, 17, 85, 55, 66, 73, 41, 14, 93, 23, 52, 13],\n",
       "       [70, 49, 78, 77, 90, 46, 63, 82, 22, 15, 76, 22],\n",
       "       [11, 90, 40, 69, 70, 23, 21, 74, 76, 96, 50, 86],\n",
       "       [50, 72, 72, 73, 81, 12, 85, 13, 21, 13, 50, 92],\n",
       "       [51, 39, 94, 80, 23, 29, 20, 36, 48, 33, 77, 51],\n",
       "       [45, 35, 11, 91, 92, 64, 19, 14, 89, 84, 95, 79],\n",
       "       [17, 88, 48, 18, 61, 72, 97, 40, 40, 42, 36, 59]])"
      ]
     },
     "execution_count": 42,
     "metadata": {},
     "output_type": "execute_result"
    }
   ],
   "source": [
    "import numpy as np\n",
    "matris=np.random.randint(10,100,size=(12,12))\n",
    "matris"
   ]
  },
  {
   "cell_type": "code",
   "execution_count": 43,
   "metadata": {},
   "outputs": [],
   "source": [
    "core=matris[4:8,4:8]\n",
    "lTquart=matris[0:4,0:4]\n",
    "lBquart=matris[8:,0:4]\n",
    "rTquart=matris[0:4,8:]\n",
    "rBquart=matris[8:,8:]\n"
   ]
  },
  {
   "cell_type": "code",
   "execution_count": 44,
   "metadata": {},
   "outputs": [
    {
     "data": {
      "text/plain": [
       "array([[ 0,  0,  0,  0, 83, 41, 81, 12,  0,  0,  0,  0],\n",
       "       [ 0,  0,  0,  0, 18, 49, 32, 31,  0,  0,  0,  0],\n",
       "       [ 0,  0,  0,  0, 18, 21, 35, 42,  0,  0,  0,  0],\n",
       "       [ 0,  0,  0,  0, 53, 29, 59, 13,  0,  0,  0,  0],\n",
       "       [37, 21, 97, 99,  0,  0,  0,  0, 75, 81, 77, 48],\n",
       "       [92, 17, 85, 55,  0,  0,  0,  0, 93, 23, 52, 13],\n",
       "       [70, 49, 78, 77,  0,  0,  0,  0, 22, 15, 76, 22],\n",
       "       [11, 90, 40, 69,  0,  0,  0,  0, 76, 96, 50, 86],\n",
       "       [ 0,  0,  0,  0, 81, 12, 85, 13,  0,  0,  0,  0],\n",
       "       [ 0,  0,  0,  0, 23, 29, 20, 36,  0,  0,  0,  0],\n",
       "       [ 0,  0,  0,  0, 92, 64, 19, 14,  0,  0,  0,  0],\n",
       "       [ 0,  0,  0,  0, 61, 72, 97, 40,  0,  0,  0,  0]])"
      ]
     },
     "execution_count": 44,
     "metadata": {},
     "output_type": "execute_result"
    }
   ],
   "source": [
    "lTquart[:,:], lBquart[:,:], rTquart[:,:], rBquart[:,:]=np.zeros((4,4))\n",
    "core[:,:]=np.zeros((4,4))\n",
    "matris##todo  işte bu 💪🏻"
   ]
  },
  {
   "cell_type": "code",
   "execution_count": 45,
   "metadata": {},
   "outputs": [
    {
     "data": {
      "text/plain": [
       "array([[24, 29, 66, 45, 43, 99, 27, 43, 69, 99, 62, 68],\n",
       "       [98, 84, 70, 11, 90, 37, 30, 70, 76, 38, 71, 83],\n",
       "       [67, 35, 92, 60, 52, 83, 73, 13, 86, 42, 22, 32],\n",
       "       [14, 83, 57, 13, 20, 19, 82, 40, 19, 76, 27, 43],\n",
       "       [70, 18, 39, 94, 51, 15, 51, 18, 92, 88, 71, 49],\n",
       "       [81, 54, 61, 52, 80, 96, 38, 17, 54, 94, 83, 32],\n",
       "       [64, 46, 99, 38, 93, 72, 84, 66, 56, 62, 69, 63],\n",
       "       [69, 25, 70, 18, 93, 90, 63, 99, 49, 80, 43, 86],\n",
       "       [51, 76, 77, 92, 75, 48, 80, 79, 58, 12, 70, 11],\n",
       "       [47, 82, 57, 77, 80, 87, 65, 65, 35, 30, 10, 78],\n",
       "       [22, 59, 36, 23, 33, 71, 56, 78, 99, 22, 75, 14],\n",
       "       [77, 32, 37, 35, 41, 38, 93, 65, 97, 94, 57, 86]])"
      ]
     },
     "execution_count": 45,
     "metadata": {},
     "output_type": "execute_result"
    }
   ],
   "source": [
    "matris2=np.random.randint(10,100,size=(12,12))\n",
    "matris2"
   ]
  },
  {
   "cell_type": "code",
   "execution_count": 46,
   "metadata": {},
   "outputs": [],
   "source": [
    "core2=matris2[4:8,4:8].copy\n",
    "lTquart2=matris2[0:4,0:4].copy\n",
    "lBquart2=matris2[8:,0:4].copy\n",
    "rTquart2=matris2[0:4,8:].copy\n",
    "rBquart2=matris2[8:,8:].copy"
   ]
  },
  {
   "cell_type": "code",
   "execution_count": 47,
   "metadata": {},
   "outputs": [
    {
     "data": {
      "text/plain": [
       "array([[24, 29, 66, 45, 43, 99, 27, 43, 69, 99, 62, 68],\n",
       "       [98, 84, 70, 11, 90, 37, 30, 70, 76, 38, 71, 83],\n",
       "       [67, 35, 92, 60, 52, 83, 73, 13, 86, 42, 22, 32],\n",
       "       [14, 83, 57, 13, 20, 19, 82, 40, 19, 76, 27, 43],\n",
       "       [70, 18, 39, 94, 51, 15, 51, 18, 92, 88, 71, 49],\n",
       "       [81, 54, 61, 52, 80, 96, 38, 17, 54, 94, 83, 32],\n",
       "       [64, 46, 99, 38, 93, 72, 84, 66, 56, 62, 69, 63],\n",
       "       [69, 25, 70, 18, 93, 90, 63, 99, 49, 80, 43, 86],\n",
       "       [51, 76, 77, 92, 75, 48, 80, 79, 58, 12, 70, 11],\n",
       "       [47, 82, 57, 77, 80, 87, 65, 65, 35, 30, 10, 78],\n",
       "       [22, 59, 36, 23, 33, 71, 56, 78, 99, 22, 75, 14],\n",
       "       [77, 32, 37, 35, 41, 38, 93, 65, 97, 94, 57, 86]])"
      ]
     },
     "execution_count": 47,
     "metadata": {},
     "output_type": "execute_result"
    }
   ],
   "source": [
    "lTquart[:,:], lBquart[:,:], rTquart[:,:], rBquart[:,:]=np.zeros((4,4))\n",
    "core[:,:]=np.zeros((4,4))\n",
    "matris2"
   ]
  },
  {
   "cell_type": "code",
   "execution_count": null,
   "metadata": {},
   "outputs": [],
   "source": []
  }
 ],
 "metadata": {
  "kernelspec": {
   "display_name": "Python 3.9.6 64-bit",
   "language": "python",
   "name": "python3"
  },
  "language_info": {
   "codemirror_mode": {
    "name": "ipython",
    "version": 3
   },
   "file_extension": ".py",
   "mimetype": "text/x-python",
   "name": "python",
   "nbconvert_exporter": "python",
   "pygments_lexer": "ipython3",
   "version": "3.9.6"
  },
  "orig_nbformat": 4,
  "vscode": {
   "interpreter": {
    "hash": "31f2aee4e71d21fbe5cf8b01ff0e069b9275f58929596ceb00d14d90e3e16cd6"
   }
  }
 },
 "nbformat": 4,
 "nbformat_minor": 2
}
