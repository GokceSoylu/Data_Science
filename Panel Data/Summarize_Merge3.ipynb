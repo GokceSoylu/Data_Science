{
 "cells": [
  {
   "cell_type": "code",
   "execution_count": 1,
   "metadata": {},
   "outputs": [],
   "source": [
    "import pandas as pd\n",
    "#validete 1:1 m:1 1:m m:m muhabbetlerine girmedim."
   ]
  },
  {
   "cell_type": "code",
   "execution_count": 7,
   "metadata": {},
   "outputs": [
    {
     "name": "stdout",
     "output_type": "stream",
     "text": [
      "  company department  worker\n",
      "0     mic   software  500000\n",
      "1  google   software   53000\n",
      "2    ikea       arch    7000\n",
      "\n",
      "  company department team_lead\n",
      "0     mic   software       ali\n",
      "1     mic   software     hasan\n",
      "2  google   software    mehmed\n",
      "3  google   software      riza\n",
      "4  google        acc    tomris\n",
      "5    ikea       arch     kasim\n"
     ]
    }
   ],
   "source": [
    "a=pd.DataFrame({\"company\":[\"mic\",\"google\",\"ikea\"],\n",
    "                \"department\":[\"software\",\"software\",\"arch\"],\n",
    "                \"worker\":[500000,53000,7000]})\n",
    "b=pd.DataFrame({\"company\":[\"mic\",\"mic\",\"google\",\"google\",\"google\",\"ikea\"],\n",
    "                \"department\":[\"software\",\"software\",\"software\",\"software\",\"acc\",\"arch\"],\n",
    "                \"team_lead\":[\"ali\",\"hasan\",\"mehmed\",\"riza\",\"tomris\",\"kasim\"]})\n",
    "print(a)\n",
    "print()\n",
    "print(b)\n",
    "            "
   ]
  },
  {
   "cell_type": "code",
   "execution_count": 9,
   "metadata": {},
   "outputs": [
    {
     "data": {
      "text/html": [
       "<div>\n",
       "<style scoped>\n",
       "    .dataframe tbody tr th:only-of-type {\n",
       "        vertical-align: middle;\n",
       "    }\n",
       "\n",
       "    .dataframe tbody tr th {\n",
       "        vertical-align: top;\n",
       "    }\n",
       "\n",
       "    .dataframe thead th {\n",
       "        text-align: right;\n",
       "    }\n",
       "</style>\n",
       "<table border=\"1\" class=\"dataframe\">\n",
       "  <thead>\n",
       "    <tr style=\"text-align: right;\">\n",
       "      <th></th>\n",
       "      <th>company</th>\n",
       "      <th>department</th>\n",
       "      <th>worker</th>\n",
       "      <th>team_lead</th>\n",
       "    </tr>\n",
       "  </thead>\n",
       "  <tbody>\n",
       "    <tr>\n",
       "      <th>0</th>\n",
       "      <td>mic</td>\n",
       "      <td>software</td>\n",
       "      <td>500000</td>\n",
       "      <td>ali</td>\n",
       "    </tr>\n",
       "    <tr>\n",
       "      <th>1</th>\n",
       "      <td>mic</td>\n",
       "      <td>software</td>\n",
       "      <td>500000</td>\n",
       "      <td>hasan</td>\n",
       "    </tr>\n",
       "    <tr>\n",
       "      <th>2</th>\n",
       "      <td>google</td>\n",
       "      <td>software</td>\n",
       "      <td>53000</td>\n",
       "      <td>mehmed</td>\n",
       "    </tr>\n",
       "    <tr>\n",
       "      <th>3</th>\n",
       "      <td>google</td>\n",
       "      <td>software</td>\n",
       "      <td>53000</td>\n",
       "      <td>riza</td>\n",
       "    </tr>\n",
       "    <tr>\n",
       "      <th>4</th>\n",
       "      <td>ikea</td>\n",
       "      <td>arch</td>\n",
       "      <td>7000</td>\n",
       "      <td>kasim</td>\n",
       "    </tr>\n",
       "  </tbody>\n",
       "</table>\n",
       "</div>"
      ],
      "text/plain": [
       "  company department  worker team_lead\n",
       "0     mic   software  500000       ali\n",
       "1     mic   software  500000     hasan\n",
       "2  google   software   53000    mehmed\n",
       "3  google   software   53000      riza\n",
       "4    ikea       arch    7000     kasim"
      ]
     },
     "execution_count": 9,
     "metadata": {},
     "output_type": "execute_result"
    }
   ],
   "source": [
    "pd.merge(a,b)"
   ]
  },
  {
   "cell_type": "code",
   "execution_count": 10,
   "metadata": {},
   "outputs": [
    {
     "data": {
      "text/html": [
       "<div>\n",
       "<style scoped>\n",
       "    .dataframe tbody tr th:only-of-type {\n",
       "        vertical-align: middle;\n",
       "    }\n",
       "\n",
       "    .dataframe tbody tr th {\n",
       "        vertical-align: top;\n",
       "    }\n",
       "\n",
       "    .dataframe thead th {\n",
       "        text-align: right;\n",
       "    }\n",
       "</style>\n",
       "<table border=\"1\" class=\"dataframe\">\n",
       "  <thead>\n",
       "    <tr style=\"text-align: right;\">\n",
       "      <th></th>\n",
       "      <th>company</th>\n",
       "      <th>department_x</th>\n",
       "      <th>worker</th>\n",
       "      <th>department_y</th>\n",
       "      <th>team_lead</th>\n",
       "    </tr>\n",
       "  </thead>\n",
       "  <tbody>\n",
       "    <tr>\n",
       "      <th>0</th>\n",
       "      <td>mic</td>\n",
       "      <td>software</td>\n",
       "      <td>500000</td>\n",
       "      <td>software</td>\n",
       "      <td>ali</td>\n",
       "    </tr>\n",
       "    <tr>\n",
       "      <th>1</th>\n",
       "      <td>mic</td>\n",
       "      <td>software</td>\n",
       "      <td>500000</td>\n",
       "      <td>software</td>\n",
       "      <td>hasan</td>\n",
       "    </tr>\n",
       "    <tr>\n",
       "      <th>2</th>\n",
       "      <td>google</td>\n",
       "      <td>software</td>\n",
       "      <td>53000</td>\n",
       "      <td>software</td>\n",
       "      <td>mehmed</td>\n",
       "    </tr>\n",
       "    <tr>\n",
       "      <th>3</th>\n",
       "      <td>google</td>\n",
       "      <td>software</td>\n",
       "      <td>53000</td>\n",
       "      <td>software</td>\n",
       "      <td>riza</td>\n",
       "    </tr>\n",
       "    <tr>\n",
       "      <th>4</th>\n",
       "      <td>google</td>\n",
       "      <td>software</td>\n",
       "      <td>53000</td>\n",
       "      <td>acc</td>\n",
       "      <td>tomris</td>\n",
       "    </tr>\n",
       "    <tr>\n",
       "      <th>5</th>\n",
       "      <td>ikea</td>\n",
       "      <td>arch</td>\n",
       "      <td>7000</td>\n",
       "      <td>arch</td>\n",
       "      <td>kasim</td>\n",
       "    </tr>\n",
       "  </tbody>\n",
       "</table>\n",
       "</div>"
      ],
      "text/plain": [
       "  company department_x  worker department_y team_lead\n",
       "0     mic     software  500000     software       ali\n",
       "1     mic     software  500000     software     hasan\n",
       "2  google     software   53000     software    mehmed\n",
       "3  google     software   53000     software      riza\n",
       "4  google     software   53000          acc    tomris\n",
       "5    ikea         arch    7000         arch     kasim"
      ]
     },
     "execution_count": 10,
     "metadata": {},
     "output_type": "execute_result"
    }
   ],
   "source": [
    "pd.merge(a,b,on=\"company\")"
   ]
  }
 ],
 "metadata": {
  "kernelspec": {
   "display_name": "Python 3.9.6 64-bit",
   "language": "python",
   "name": "python3"
  },
  "language_info": {
   "codemirror_mode": {
    "name": "ipython",
    "version": 3
   },
   "file_extension": ".py",
   "mimetype": "text/x-python",
   "name": "python",
   "nbconvert_exporter": "python",
   "pygments_lexer": "ipython3",
   "version": "3.9.6"
  },
  "orig_nbformat": 4,
  "vscode": {
   "interpreter": {
    "hash": "31f2aee4e71d21fbe5cf8b01ff0e069b9275f58929596ceb00d14d90e3e16cd6"
   }
  }
 },
 "nbformat": 4,
 "nbformat_minor": 2
}
