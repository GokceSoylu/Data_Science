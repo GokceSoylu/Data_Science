{
 "cells": [
  {
   "cell_type": "code",
   "execution_count": 1,
   "metadata": {},
   "outputs": [],
   "source": [
    "import pandas as pd"
   ]
  },
  {
   "cell_type": "code",
   "execution_count": 4,
   "metadata": {},
   "outputs": [
    {
     "data": {
      "text/html": [
       "<div>\n",
       "<style scoped>\n",
       "    .dataframe tbody tr th:only-of-type {\n",
       "        vertical-align: middle;\n",
       "    }\n",
       "\n",
       "    .dataframe tbody tr th {\n",
       "        vertical-align: top;\n",
       "    }\n",
       "\n",
       "    .dataframe thead th {\n",
       "        text-align: right;\n",
       "    }\n",
       "</style>\n",
       "<table border=\"1\" class=\"dataframe\">\n",
       "  <thead>\n",
       "    <tr style=\"text-align: right;\">\n",
       "      <th></th>\n",
       "      <th>şehir</th>\n",
       "      <th>araç</th>\n",
       "      <th>renk</th>\n",
       "    </tr>\n",
       "  </thead>\n",
       "  <tbody>\n",
       "    <tr>\n",
       "      <th>0</th>\n",
       "      <td>manisa</td>\n",
       "      <td>tren</td>\n",
       "      <td>kırmızı</td>\n",
       "    </tr>\n",
       "    <tr>\n",
       "      <th>1</th>\n",
       "      <td>ankara</td>\n",
       "      <td>araba</td>\n",
       "      <td>mavi</td>\n",
       "    </tr>\n",
       "    <tr>\n",
       "      <th>2</th>\n",
       "      <td>ığdır</td>\n",
       "      <td>bisiklet</td>\n",
       "      <td>beyaz</td>\n",
       "    </tr>\n",
       "  </tbody>\n",
       "</table>\n",
       "</div>"
      ],
      "text/plain": [
       "    şehir      araç     renk\n",
       "0  manisa      tren  kırmızı\n",
       "1  ankara     araba     mavi\n",
       "2   ığdır  bisiklet    beyaz"
      ]
     },
     "execution_count": 4,
     "metadata": {},
     "output_type": "execute_result"
    }
   ],
   "source": [
    "m=pd.DataFrame({\"şehir\":[\"manisa\",\"ankara\",\"ığdır\"],\n",
    "                \"araç\":[\"tren\",\"araba\",\"bisiklet\"],\n",
    "                \"renk\":[\"kırmızı\",\"mavi\",\"beyaz\"]})\n",
    "m"
   ]
  },
  {
   "cell_type": "code",
   "execution_count": 7,
   "metadata": {},
   "outputs": [
    {
     "data": {
      "text/html": [
       "<div>\n",
       "<style scoped>\n",
       "    .dataframe tbody tr th:only-of-type {\n",
       "        vertical-align: middle;\n",
       "    }\n",
       "\n",
       "    .dataframe tbody tr th {\n",
       "        vertical-align: top;\n",
       "    }\n",
       "\n",
       "    .dataframe thead th {\n",
       "        text-align: right;\n",
       "    }\n",
       "</style>\n",
       "<table border=\"1\" class=\"dataframe\">\n",
       "  <thead>\n",
       "    <tr style=\"text-align: right;\">\n",
       "      <th></th>\n",
       "      <th>araç</th>\n",
       "      <th>yaş</th>\n",
       "      <th>renk</th>\n",
       "    </tr>\n",
       "  </thead>\n",
       "  <tbody>\n",
       "    <tr>\n",
       "      <th>0</th>\n",
       "      <td>tren</td>\n",
       "      <td>50</td>\n",
       "      <td>kırmızı</td>\n",
       "    </tr>\n",
       "    <tr>\n",
       "      <th>1</th>\n",
       "      <td>araba</td>\n",
       "      <td>36</td>\n",
       "      <td>kırmızı</td>\n",
       "    </tr>\n",
       "    <tr>\n",
       "      <th>2</th>\n",
       "      <td>bisiklet</td>\n",
       "      <td>18</td>\n",
       "      <td>beyaz</td>\n",
       "    </tr>\n",
       "  </tbody>\n",
       "</table>\n",
       "</div>"
      ],
      "text/plain": [
       "       araç  yaş     renk\n",
       "0      tren   50  kırmızı\n",
       "1     araba   36  kırmızı\n",
       "2  bisiklet   18    beyaz"
      ]
     },
     "execution_count": 7,
     "metadata": {},
     "output_type": "execute_result"
    }
   ],
   "source": [
    "n=pd.DataFrame({\"araç\":[\"tren\",\"araba\",\"bisiklet\"], \n",
    "                \"yaş\":[50,36,18],\n",
    "                \"renk\":[\"kırmızı\",\"kırmızı\",\"beyaz\"]})\n",
    "n"
   ]
  },
  {
   "cell_type": "code",
   "execution_count": 11,
   "metadata": {},
   "outputs": [
    {
     "data": {
      "text/html": [
       "<div>\n",
       "<style scoped>\n",
       "    .dataframe tbody tr th:only-of-type {\n",
       "        vertical-align: middle;\n",
       "    }\n",
       "\n",
       "    .dataframe tbody tr th {\n",
       "        vertical-align: top;\n",
       "    }\n",
       "\n",
       "    .dataframe thead th {\n",
       "        text-align: right;\n",
       "    }\n",
       "</style>\n",
       "<table border=\"1\" class=\"dataframe\">\n",
       "  <thead>\n",
       "    <tr style=\"text-align: right;\">\n",
       "      <th></th>\n",
       "      <th>şehir</th>\n",
       "      <th>araç</th>\n",
       "      <th>renk</th>\n",
       "      <th>yaş</th>\n",
       "    </tr>\n",
       "  </thead>\n",
       "  <tbody>\n",
       "    <tr>\n",
       "      <th>0</th>\n",
       "      <td>manisa</td>\n",
       "      <td>tren</td>\n",
       "      <td>kırmızı</td>\n",
       "      <td>50</td>\n",
       "    </tr>\n",
       "    <tr>\n",
       "      <th>1</th>\n",
       "      <td>ığdır</td>\n",
       "      <td>bisiklet</td>\n",
       "      <td>beyaz</td>\n",
       "      <td>18</td>\n",
       "    </tr>\n",
       "  </tbody>\n",
       "</table>\n",
       "</div>"
      ],
      "text/plain": [
       "    şehir      araç     renk  yaş\n",
       "0  manisa      tren  kırmızı   50\n",
       "1   ığdır  bisiklet    beyaz   18"
      ]
     },
     "execution_count": 11,
     "metadata": {},
     "output_type": "execute_result"
    }
   ],
   "source": [
    "pd.merge(m,n)"
   ]
  },
  {
   "cell_type": "code",
   "execution_count": 15,
   "metadata": {},
   "outputs": [
    {
     "data": {
      "text/html": [
       "<div>\n",
       "<style scoped>\n",
       "    .dataframe tbody tr th:only-of-type {\n",
       "        vertical-align: middle;\n",
       "    }\n",
       "\n",
       "    .dataframe tbody tr th {\n",
       "        vertical-align: top;\n",
       "    }\n",
       "\n",
       "    .dataframe thead th {\n",
       "        text-align: right;\n",
       "    }\n",
       "</style>\n",
       "<table border=\"1\" class=\"dataframe\">\n",
       "  <thead>\n",
       "    <tr style=\"text-align: right;\">\n",
       "      <th></th>\n",
       "      <th>şehir</th>\n",
       "      <th>araç</th>\n",
       "      <th>renk</th>\n",
       "    </tr>\n",
       "  </thead>\n",
       "  <tbody>\n",
       "    <tr>\n",
       "      <th>0</th>\n",
       "      <td>manisa</td>\n",
       "      <td>tren</td>\n",
       "      <td>kırmızı</td>\n",
       "    </tr>\n",
       "    <tr>\n",
       "      <th>1</th>\n",
       "      <td>ankara</td>\n",
       "      <td>araba</td>\n",
       "      <td>mavi</td>\n",
       "    </tr>\n",
       "    <tr>\n",
       "      <th>2</th>\n",
       "      <td>ığdır</td>\n",
       "      <td>bisiklet</td>\n",
       "      <td>beyaz</td>\n",
       "    </tr>\n",
       "  </tbody>\n",
       "</table>\n",
       "</div>"
      ],
      "text/plain": [
       "    şehir      araç     renk\n",
       "0  manisa      tren  kırmızı\n",
       "1  ankara     araba     mavi\n",
       "2   ığdır  bisiklet    beyaz"
      ]
     },
     "execution_count": 15,
     "metadata": {},
     "output_type": "execute_result"
    }
   ],
   "source": [
    "m=pd.DataFrame({\"şehir\":[\"manisa\",\"ankara\",\"ığdır\"],\n",
    "                \"araç\":[\"tren\",\"araba\",\"bisiklet\"],\n",
    "                \"renk\":[\"kırmızı\",\"mavi\",\"beyaz\"]})\n",
    "m"
   ]
  },
  {
   "cell_type": "code",
   "execution_count": 17,
   "metadata": {},
   "outputs": [
    {
     "data": {
      "text/html": [
       "<div>\n",
       "<style scoped>\n",
       "    .dataframe tbody tr th:only-of-type {\n",
       "        vertical-align: middle;\n",
       "    }\n",
       "\n",
       "    .dataframe tbody tr th {\n",
       "        vertical-align: top;\n",
       "    }\n",
       "\n",
       "    .dataframe thead th {\n",
       "        text-align: right;\n",
       "    }\n",
       "</style>\n",
       "<table border=\"1\" class=\"dataframe\">\n",
       "  <thead>\n",
       "    <tr style=\"text-align: right;\">\n",
       "      <th></th>\n",
       "      <th>araç</th>\n",
       "      <th>yaş</th>\n",
       "      <th>renk</th>\n",
       "    </tr>\n",
       "  </thead>\n",
       "  <tbody>\n",
       "    <tr>\n",
       "      <th>0</th>\n",
       "      <td>tren</td>\n",
       "      <td>50</td>\n",
       "      <td>kırmızı</td>\n",
       "    </tr>\n",
       "    <tr>\n",
       "      <th>1</th>\n",
       "      <td>araba</td>\n",
       "      <td>36</td>\n",
       "      <td>mavi</td>\n",
       "    </tr>\n",
       "    <tr>\n",
       "      <th>2</th>\n",
       "      <td>bisiklet</td>\n",
       "      <td>18</td>\n",
       "      <td>beyaz</td>\n",
       "    </tr>\n",
       "    <tr>\n",
       "      <th>3</th>\n",
       "      <td>tren</td>\n",
       "      <td>18</td>\n",
       "      <td>kırmızı</td>\n",
       "    </tr>\n",
       "  </tbody>\n",
       "</table>\n",
       "</div>"
      ],
      "text/plain": [
       "       araç  yaş     renk\n",
       "0      tren   50  kırmızı\n",
       "1     araba   36     mavi\n",
       "2  bisiklet   18    beyaz\n",
       "3      tren   18  kırmızı"
      ]
     },
     "execution_count": 17,
     "metadata": {},
     "output_type": "execute_result"
    }
   ],
   "source": [
    "n=pd.DataFrame({\"araç\":[\"tren\",\"araba\",\"bisiklet\",\"tren\"], \n",
    "                \"yaş\":[50,36,18,18],\n",
    "                \"renk\":[\"kırmızı\",\"mavi\",\"beyaz\",\"kırmızı\"]})\n",
    "n"
   ]
  },
  {
   "cell_type": "code",
   "execution_count": 18,
   "metadata": {},
   "outputs": [
    {
     "data": {
      "text/html": [
       "<div>\n",
       "<style scoped>\n",
       "    .dataframe tbody tr th:only-of-type {\n",
       "        vertical-align: middle;\n",
       "    }\n",
       "\n",
       "    .dataframe tbody tr th {\n",
       "        vertical-align: top;\n",
       "    }\n",
       "\n",
       "    .dataframe thead th {\n",
       "        text-align: right;\n",
       "    }\n",
       "</style>\n",
       "<table border=\"1\" class=\"dataframe\">\n",
       "  <thead>\n",
       "    <tr style=\"text-align: right;\">\n",
       "      <th></th>\n",
       "      <th>şehir</th>\n",
       "      <th>araç</th>\n",
       "      <th>renk</th>\n",
       "      <th>yaş</th>\n",
       "    </tr>\n",
       "  </thead>\n",
       "  <tbody>\n",
       "    <tr>\n",
       "      <th>0</th>\n",
       "      <td>manisa</td>\n",
       "      <td>tren</td>\n",
       "      <td>kırmızı</td>\n",
       "      <td>50</td>\n",
       "    </tr>\n",
       "    <tr>\n",
       "      <th>1</th>\n",
       "      <td>manisa</td>\n",
       "      <td>tren</td>\n",
       "      <td>kırmızı</td>\n",
       "      <td>18</td>\n",
       "    </tr>\n",
       "    <tr>\n",
       "      <th>2</th>\n",
       "      <td>ankara</td>\n",
       "      <td>araba</td>\n",
       "      <td>mavi</td>\n",
       "      <td>36</td>\n",
       "    </tr>\n",
       "    <tr>\n",
       "      <th>3</th>\n",
       "      <td>ığdır</td>\n",
       "      <td>bisiklet</td>\n",
       "      <td>beyaz</td>\n",
       "      <td>18</td>\n",
       "    </tr>\n",
       "  </tbody>\n",
       "</table>\n",
       "</div>"
      ],
      "text/plain": [
       "    şehir      araç     renk  yaş\n",
       "0  manisa      tren  kırmızı   50\n",
       "1  manisa      tren  kırmızı   18\n",
       "2  ankara     araba     mavi   36\n",
       "3   ığdır  bisiklet    beyaz   18"
      ]
     },
     "execution_count": 18,
     "metadata": {},
     "output_type": "execute_result"
    }
   ],
   "source": [
    "pd.merge(m,n)"
   ]
  },
  {
   "cell_type": "code",
   "execution_count": 19,
   "metadata": {},
   "outputs": [
    {
     "data": {
      "text/html": [
       "<div>\n",
       "<style scoped>\n",
       "    .dataframe tbody tr th:only-of-type {\n",
       "        vertical-align: middle;\n",
       "    }\n",
       "\n",
       "    .dataframe tbody tr th {\n",
       "        vertical-align: top;\n",
       "    }\n",
       "\n",
       "    .dataframe thead th {\n",
       "        text-align: right;\n",
       "    }\n",
       "</style>\n",
       "<table border=\"1\" class=\"dataframe\">\n",
       "  <thead>\n",
       "    <tr style=\"text-align: right;\">\n",
       "      <th></th>\n",
       "      <th>şehir</th>\n",
       "      <th>araç</th>\n",
       "      <th>renk</th>\n",
       "    </tr>\n",
       "  </thead>\n",
       "  <tbody>\n",
       "    <tr>\n",
       "      <th>0</th>\n",
       "      <td>manisa</td>\n",
       "      <td>tren</td>\n",
       "      <td>kırmızı</td>\n",
       "    </tr>\n",
       "    <tr>\n",
       "      <th>1</th>\n",
       "      <td>ankara</td>\n",
       "      <td>araba</td>\n",
       "      <td>siyah</td>\n",
       "    </tr>\n",
       "    <tr>\n",
       "      <th>2</th>\n",
       "      <td>ığdır</td>\n",
       "      <td>bisiklet</td>\n",
       "      <td>beyaz</td>\n",
       "    </tr>\n",
       "  </tbody>\n",
       "</table>\n",
       "</div>"
      ],
      "text/plain": [
       "    şehir      araç     renk\n",
       "0  manisa      tren  kırmızı\n",
       "1  ankara     araba    siyah\n",
       "2   ığdır  bisiklet    beyaz"
      ]
     },
     "execution_count": 19,
     "metadata": {},
     "output_type": "execute_result"
    }
   ],
   "source": [
    "m=pd.DataFrame({\"şehir\":[\"manisa\",\"ankara\",\"ığdır\"],\n",
    "                \"araç\":[\"tren\",\"araba\",\"bisiklet\"],\n",
    "                \"renk\":[\"kırmızı\",\"siyah\",\"beyaz\"]})\n",
    "m"
   ]
  },
  {
   "cell_type": "code",
   "execution_count": 21,
   "metadata": {},
   "outputs": [
    {
     "data": {
      "text/html": [
       "<div>\n",
       "<style scoped>\n",
       "    .dataframe tbody tr th:only-of-type {\n",
       "        vertical-align: middle;\n",
       "    }\n",
       "\n",
       "    .dataframe tbody tr th {\n",
       "        vertical-align: top;\n",
       "    }\n",
       "\n",
       "    .dataframe thead th {\n",
       "        text-align: right;\n",
       "    }\n",
       "</style>\n",
       "<table border=\"1\" class=\"dataframe\">\n",
       "  <thead>\n",
       "    <tr style=\"text-align: right;\">\n",
       "      <th></th>\n",
       "      <th>şehir</th>\n",
       "      <th>araç</th>\n",
       "      <th>renk</th>\n",
       "      <th>yaş</th>\n",
       "    </tr>\n",
       "  </thead>\n",
       "  <tbody>\n",
       "    <tr>\n",
       "      <th>0</th>\n",
       "      <td>manisa</td>\n",
       "      <td>tren</td>\n",
       "      <td>kırmızı</td>\n",
       "      <td>50</td>\n",
       "    </tr>\n",
       "    <tr>\n",
       "      <th>1</th>\n",
       "      <td>manisa</td>\n",
       "      <td>tren</td>\n",
       "      <td>kırmızı</td>\n",
       "      <td>18</td>\n",
       "    </tr>\n",
       "    <tr>\n",
       "      <th>2</th>\n",
       "      <td>ığdır</td>\n",
       "      <td>bisiklet</td>\n",
       "      <td>beyaz</td>\n",
       "      <td>18</td>\n",
       "    </tr>\n",
       "  </tbody>\n",
       "</table>\n",
       "</div>"
      ],
      "text/plain": [
       "    şehir      araç     renk  yaş\n",
       "0  manisa      tren  kırmızı   50\n",
       "1  manisa      tren  kırmızı   18\n",
       "2   ığdır  bisiklet    beyaz   18"
      ]
     },
     "execution_count": 21,
     "metadata": {},
     "output_type": "execute_result"
    }
   ],
   "source": [
    "pd.merge(m,n)"
   ]
  },
  {
   "cell_type": "code",
   "execution_count": 23,
   "metadata": {},
   "outputs": [
    {
     "data": {
      "text/html": [
       "<div>\n",
       "<style scoped>\n",
       "    .dataframe tbody tr th:only-of-type {\n",
       "        vertical-align: middle;\n",
       "    }\n",
       "\n",
       "    .dataframe tbody tr th {\n",
       "        vertical-align: top;\n",
       "    }\n",
       "\n",
       "    .dataframe thead th {\n",
       "        text-align: right;\n",
       "    }\n",
       "</style>\n",
       "<table border=\"1\" class=\"dataframe\">\n",
       "  <thead>\n",
       "    <tr style=\"text-align: right;\">\n",
       "      <th></th>\n",
       "      <th>şehir</th>\n",
       "      <th>araç</th>\n",
       "      <th>renk_x</th>\n",
       "      <th>yaş</th>\n",
       "      <th>renk_y</th>\n",
       "    </tr>\n",
       "  </thead>\n",
       "  <tbody>\n",
       "    <tr>\n",
       "      <th>0</th>\n",
       "      <td>manisa</td>\n",
       "      <td>tren</td>\n",
       "      <td>kırmızı</td>\n",
       "      <td>50</td>\n",
       "      <td>kırmızı</td>\n",
       "    </tr>\n",
       "    <tr>\n",
       "      <th>1</th>\n",
       "      <td>manisa</td>\n",
       "      <td>tren</td>\n",
       "      <td>kırmızı</td>\n",
       "      <td>18</td>\n",
       "      <td>kırmızı</td>\n",
       "    </tr>\n",
       "    <tr>\n",
       "      <th>2</th>\n",
       "      <td>ankara</td>\n",
       "      <td>araba</td>\n",
       "      <td>siyah</td>\n",
       "      <td>36</td>\n",
       "      <td>mavi</td>\n",
       "    </tr>\n",
       "    <tr>\n",
       "      <th>3</th>\n",
       "      <td>ığdır</td>\n",
       "      <td>bisiklet</td>\n",
       "      <td>beyaz</td>\n",
       "      <td>18</td>\n",
       "      <td>beyaz</td>\n",
       "    </tr>\n",
       "  </tbody>\n",
       "</table>\n",
       "</div>"
      ],
      "text/plain": [
       "    şehir      araç   renk_x  yaş   renk_y\n",
       "0  manisa      tren  kırmızı   50  kırmızı\n",
       "1  manisa      tren  kırmızı   18  kırmızı\n",
       "2  ankara     araba    siyah   36     mavi\n",
       "3   ığdır  bisiklet    beyaz   18    beyaz"
      ]
     },
     "execution_count": 23,
     "metadata": {},
     "output_type": "execute_result"
    }
   ],
   "source": [
    "pd.merge(m,n,on=\"araç\")"
   ]
  }
 ],
 "metadata": {
  "kernelspec": {
   "display_name": "Python 3.9.6 64-bit",
   "language": "python",
   "name": "python3"
  },
  "language_info": {
   "name": "python",
   "version": "3.9.6"
  },
  "orig_nbformat": 4,
  "vscode": {
   "interpreter": {
    "hash": "31f2aee4e71d21fbe5cf8b01ff0e069b9275f58929596ceb00d14d90e3e16cd6"
   }
  }
 },
 "nbformat": 4,
 "nbformat_minor": 2
}
