{
 "cells": [
  {
   "cell_type": "markdown",
   "metadata": {},
   "source": [
    "# Çizgi Grafiği\n",
    "\n"
   ]
  },
  {
   "cell_type": "code",
   "execution_count": 2,
   "metadata": {},
   "outputs": [],
   "source": [
    "import pandas as pd\n",
    "import seaborn as sns\n",
    "data=sns.load_dataset(\"fmri\")\n",
    "fmri=data.copy()"
   ]
  },
  {
   "cell_type": "markdown",
   "metadata": {},
   "source": [
    "### önce veri setini taniyalim"
   ]
  },
  {
   "cell_type": "code",
   "execution_count": 3,
   "metadata": {},
   "outputs": [
    {
     "name": "stdout",
     "output_type": "stream",
     "text": [
      "<class 'pandas.core.frame.DataFrame'>\n",
      "RangeIndex: 1064 entries, 0 to 1063\n",
      "Data columns (total 5 columns):\n",
      " #   Column     Non-Null Count  Dtype  \n",
      "---  ------     --------------  -----  \n",
      " 0   subject    1064 non-null   object \n",
      " 1   timepoint  1064 non-null   int64  \n",
      " 2   event      1064 non-null   object \n",
      " 3   region     1064 non-null   object \n",
      " 4   signal     1064 non-null   float64\n",
      "dtypes: float64(1), int64(1), object(3)\n",
      "memory usage: 41.7+ KB\n"
     ]
    }
   ],
   "source": [
    "fmri.info()"
   ]
  },
  {
   "cell_type": "markdown",
   "metadata": {},
   "source": [
    ">Beynin belli bölgesinden sinyaller alınır\n",
    "* sunbject: kişi\n",
    "* timePoint: zaman\n",
    "* event: alınam şekli\n",
    "* region: alınan beyin bölgesi\n",
    "* signal: sinyal\n"
   ]
  },
  {
   "cell_type": "code",
   "execution_count": 4,
   "metadata": {},
   "outputs": [
    {
     "data": {
      "text/plain": [
       "s13    76\n",
       "s5     76\n",
       "s12    76\n",
       "s11    76\n",
       "s10    76\n",
       "s9     76\n",
       "s8     76\n",
       "s7     76\n",
       "s6     76\n",
       "s4     76\n",
       "s3     76\n",
       "s2     76\n",
       "s1     76\n",
       "s0     76\n",
       "Name: subject, dtype: int64"
      ]
     },
     "execution_count": 4,
     "metadata": {},
     "output_type": "execute_result"
    }
   ],
   "source": [
    "fmri[\"subject\"].value_counts()"
   ]
  },
  {
   "cell_type": "code",
   "execution_count": 5,
   "metadata": {},
   "outputs": [
    {
     "data": {
      "text/plain": [
       "stim    532\n",
       "cue     532\n",
       "Name: event, dtype: int64"
      ]
     },
     "execution_count": 5,
     "metadata": {},
     "output_type": "execute_result"
    }
   ],
   "source": [
    "fmri[\"event\"].value_counts()"
   ]
  },
  {
   "cell_type": "code",
   "execution_count": 6,
   "metadata": {},
   "outputs": [
    {
     "data": {
      "text/plain": [
       "parietal    532\n",
       "frontal     532\n",
       "Name: region, dtype: int64"
      ]
     },
     "execution_count": 6,
     "metadata": {},
     "output_type": "execute_result"
    }
   ],
   "source": [
    "fmri[\"region\"].value_counts()"
   ]
  },
  {
   "cell_type": "markdown",
   "metadata": {},
   "source": [
    "buradan anlaşılan 14 kişiden beynin iki farklı bölgesinden iki farklı yöntemle frekans allınmış"
   ]
  },
  {
   "cell_type": "code",
   "execution_count": 11,
   "metadata": {},
   "outputs": [
    {
     "data": {
      "text/plain": [
       "count    1064.000000\n",
       "mean        9.000000\n",
       "std         5.479801\n",
       "min         0.000000\n",
       "25%         4.000000\n",
       "50%         9.000000\n",
       "75%        14.000000\n",
       "max        18.000000\n",
       "Name: timepoint, dtype: float64"
      ]
     },
     "execution_count": 11,
     "metadata": {},
     "output_type": "execute_result"
    }
   ],
   "source": [
    "fmri[\"timepoint\"].describe()\n"
   ]
  },
  {
   "cell_type": "markdown",
   "metadata": {},
   "source": [
    "görüldğü üzere std sapma dişinda ondalıklı ifade yok. o zma timepoint değeri kesiklidir. mutlak düzgün yani. \n",
    "\n",
    "istersek kategorik değişkenmiş gibide davranabiliriz"
   ]
  },
  {
   "cell_type": "code",
   "execution_count": 13,
   "metadata": {},
   "outputs": [
    {
     "data": {
      "text/plain": [
       "count    1064.000000\n",
       "mean        0.003540\n",
       "std         0.093930\n",
       "min        -0.255486\n",
       "25%        -0.046070\n",
       "50%        -0.013653\n",
       "75%         0.024293\n",
       "max         0.564985\n",
       "Name: signal, dtype: float64"
      ]
     },
     "execution_count": 13,
     "metadata": {},
     "output_type": "execute_result"
    }
   ],
   "source": [
    "fmri[\"signal\"].describe()"
   ]
  },
  {
   "cell_type": "markdown",
   "metadata": {},
   "source": [
    "zaman noktası var frekans var. acaba her bir zaman noktasında belirli sayida sinyal mi var?"
   ]
  },
  {
   "cell_type": "code",
   "execution_count": 18,
   "metadata": {},
   "outputs": [
    {
     "data": {
      "text/plain": [
       "timepoint\n",
       "0     56\n",
       "1     56\n",
       "2     56\n",
       "3     56\n",
       "4     56\n",
       "5     56\n",
       "6     56\n",
       "7     56\n",
       "8     56\n",
       "9     56\n",
       "10    56\n",
       "11    56\n",
       "12    56\n",
       "13    56\n",
       "14    56\n",
       "15    56\n",
       "16    56\n",
       "17    56\n",
       "18    56\n",
       "Name: signal, dtype: int64"
      ]
     },
     "execution_count": 18,
     "metadata": {},
     "output_type": "execute_result"
    }
   ],
   "source": [
    "fmri.groupby(\"timepoint\")[\"signal\"].count()"
   ]
  },
  {
   "cell_type": "code",
   "execution_count": 19,
   "metadata": {},
   "outputs": [
    {
     "data": {
      "text/plain": [
       "region\n",
       "frontal     532\n",
       "parietal    532\n",
       "Name: signal, dtype: int64"
      ]
     },
     "execution_count": 19,
     "metadata": {},
     "output_type": "execute_result"
    }
   ],
   "source": [
    "fmri.groupby(\"region\")[\"signal\"].count()"
   ]
  },
  {
   "cell_type": "markdown",
   "metadata": {},
   "source": [
    "evet tahmin edildiği gibi meknaik bir veri. beynin her iki noktasından atnı zamanda aynı sayıda sinyal alınmış"
   ]
  },
  {
   "cell_type": "code",
   "execution_count": 24,
   "metadata": {},
   "outputs": [
    {
     "data": {
      "text/html": [
       "<div>\n",
       "<style scoped>\n",
       "    .dataframe tbody tr th:only-of-type {\n",
       "        vertical-align: middle;\n",
       "    }\n",
       "\n",
       "    .dataframe tbody tr th {\n",
       "        vertical-align: top;\n",
       "    }\n",
       "\n",
       "    .dataframe thead th {\n",
       "        text-align: right;\n",
       "    }\n",
       "</style>\n",
       "<table border=\"1\" class=\"dataframe\">\n",
       "  <thead>\n",
       "    <tr style=\"text-align: right;\">\n",
       "      <th></th>\n",
       "      <th>subject</th>\n",
       "      <th>timepoint</th>\n",
       "      <th>event</th>\n",
       "      <th>region</th>\n",
       "    </tr>\n",
       "    <tr>\n",
       "      <th>signal</th>\n",
       "      <th></th>\n",
       "      <th></th>\n",
       "      <th></th>\n",
       "      <th></th>\n",
       "    </tr>\n",
       "  </thead>\n",
       "  <tbody>\n",
       "    <tr>\n",
       "      <th>-0.255486</th>\n",
       "      <td>1</td>\n",
       "      <td>1</td>\n",
       "      <td>1</td>\n",
       "      <td>1</td>\n",
       "    </tr>\n",
       "    <tr>\n",
       "      <th>-0.238474</th>\n",
       "      <td>1</td>\n",
       "      <td>1</td>\n",
       "      <td>1</td>\n",
       "      <td>1</td>\n",
       "    </tr>\n",
       "    <tr>\n",
       "      <th>-0.224351</th>\n",
       "      <td>1</td>\n",
       "      <td>1</td>\n",
       "      <td>1</td>\n",
       "      <td>1</td>\n",
       "    </tr>\n",
       "    <tr>\n",
       "      <th>-0.181241</th>\n",
       "      <td>1</td>\n",
       "      <td>1</td>\n",
       "      <td>1</td>\n",
       "      <td>1</td>\n",
       "    </tr>\n",
       "    <tr>\n",
       "      <th>-0.178510</th>\n",
       "      <td>1</td>\n",
       "      <td>1</td>\n",
       "      <td>1</td>\n",
       "      <td>1</td>\n",
       "    </tr>\n",
       "    <tr>\n",
       "      <th>...</th>\n",
       "      <td>...</td>\n",
       "      <td>...</td>\n",
       "      <td>...</td>\n",
       "      <td>...</td>\n",
       "    </tr>\n",
       "    <tr>\n",
       "      <th>0.455575</th>\n",
       "      <td>1</td>\n",
       "      <td>1</td>\n",
       "      <td>1</td>\n",
       "      <td>1</td>\n",
       "    </tr>\n",
       "    <tr>\n",
       "      <th>0.460896</th>\n",
       "      <td>1</td>\n",
       "      <td>1</td>\n",
       "      <td>1</td>\n",
       "      <td>1</td>\n",
       "    </tr>\n",
       "    <tr>\n",
       "      <th>0.476055</th>\n",
       "      <td>1</td>\n",
       "      <td>1</td>\n",
       "      <td>1</td>\n",
       "      <td>1</td>\n",
       "    </tr>\n",
       "    <tr>\n",
       "      <th>0.494787</th>\n",
       "      <td>1</td>\n",
       "      <td>1</td>\n",
       "      <td>1</td>\n",
       "      <td>1</td>\n",
       "    </tr>\n",
       "    <tr>\n",
       "      <th>0.564985</th>\n",
       "      <td>1</td>\n",
       "      <td>1</td>\n",
       "      <td>1</td>\n",
       "      <td>1</td>\n",
       "    </tr>\n",
       "  </tbody>\n",
       "</table>\n",
       "<p>1064 rows × 4 columns</p>\n",
       "</div>"
      ],
      "text/plain": [
       "           subject  timepoint  event  region\n",
       "signal                                      \n",
       "-0.255486        1          1      1       1\n",
       "-0.238474        1          1      1       1\n",
       "-0.224351        1          1      1       1\n",
       "-0.181241        1          1      1       1\n",
       "-0.178510        1          1      1       1\n",
       "...            ...        ...    ...     ...\n",
       " 0.455575        1          1      1       1\n",
       " 0.460896        1          1      1       1\n",
       " 0.476055        1          1      1       1\n",
       " 0.494787        1          1      1       1\n",
       " 0.564985        1          1      1       1\n",
       "\n",
       "[1064 rows x 4 columns]"
      ]
     },
     "execution_count": 24,
     "metadata": {},
     "output_type": "execute_result"
    }
   ],
   "source": [
    "fmri.groupby(\"signal\").count()"
   ]
  },
  {
   "cell_type": "markdown",
   "metadata": {},
   "source": [
    "o zaman her bir sinyal uniqe okmalı dedik. öylede çıktı 1064 atır oldu\n",
    "\n",
    "yani sinyalleri kendi içinde grupladığımızda 1064 grup oldu. zaten veri stinin kendisi de bu kadar satıra sahipti. o zaman her bir\n",
    "\n",
    "sinyal unuqe dir."
   ]
  },
  {
   "cell_type": "code",
   "execution_count": null,
   "metadata": {},
   "outputs": [],
   "source": []
  }
 ],
 "metadata": {
  "kernelspec": {
   "display_name": "Python 3.9.6 64-bit",
   "language": "python",
   "name": "python3"
  },
  "language_info": {
   "codemirror_mode": {
    "name": "ipython",
    "version": 3
   },
   "file_extension": ".py",
   "mimetype": "text/x-python",
   "name": "python",
   "nbconvert_exporter": "python",
   "pygments_lexer": "ipython3",
   "version": "3.9.6"
  },
  "orig_nbformat": 4,
  "vscode": {
   "interpreter": {
    "hash": "31f2aee4e71d21fbe5cf8b01ff0e069b9275f58929596ceb00d14d90e3e16cd6"
   }
  }
 },
 "nbformat": 4,
 "nbformat_minor": 2
}
