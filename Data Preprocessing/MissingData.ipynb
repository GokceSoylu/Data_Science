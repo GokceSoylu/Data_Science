{
 "cells": [
  {
   "cell_type": "markdown",
   "metadata": {},
   "source": [
    "# Eksik Gözlem Analizi\n",
    "\n",
    ">veri seetindeki eksiklik rastgele oluşmamışsa silme işlemi ciddi yanlılıklara sebebiyet verir.\n",
    "\n",
    "* Veri Serindeki eksikliğin yapısal bir eksiklik olup olmadığının bilimmesi gerekir\n",
    "* NA ger zaman eksiklik anlamına gelmez\n",
    "* Bilgi kaybı\n",
    "\n",
    "### Eksik Veri Türleri\n",
    "\n",
    "* Tümüyle raslantısal kayıp: Dipğer değişkenlerden yada yapısal problemlerden kaynaklanmayan tamame rastgele oluşan gözlemler\n",
    "* Raslantısal kayıp: Diğer değişkenlere bağlı olarak oluşabilen eksiklik türe\n",
    "* Raslantısal ommayan kayıp: Göz ardı edilemeycek olan yapısal problemler ile ortaya çıkan eksiklik türü"
   ]
  },
  {
   "cell_type": "markdown",
   "metadata": {},
   "source": [
    "### Rassallık Kontrol Yöntemleri\n",
    "* Görsel teknikler\n",
    "* bağımsız iki örneklem T testi\n",
    "* korelasyı-on testi\n",
    "* Little'nin MCAR testi "
   ]
  },
  {
   "cell_type": "markdown",
   "metadata": {},
   "source": [
    "\" The ide of imputation is both seductive and dangerous \""
   ]
  },
  {
   "cell_type": "markdown",
   "metadata": {},
   "source": [
    "### Silme Yöntemleri\n",
    "* Gözlem yada değişkne silme yöntemi\n",
    "* Liste bazında silme yöntemi (listwise method)\n",
    "* Çifler bazında silme yöntemi (pairwise method)\n"
   ]
  },
  {
   "cell_type": "markdown",
   "metadata": {},
   "source": [
    "### Değer Atama Yöntemleri\n",
    "* Ortanca, ortalama, medyan\n",
    "* En benzer birime atama (hot deck)\n",
    "* Dış kaynaklı atama "
   ]
  },
  {
   "cell_type": "markdown",
   "metadata": {},
   "source": [
    "### Tahmine Dayalı Yöntemler\n",
    "* Makine öğrenmesi\n",
    "* EM\n",
    "* Çoklu atama yöntemi"
   ]
  },
  {
   "cell_type": "code",
   "execution_count": null,
   "metadata": {},
   "outputs": [],
   "source": []
  }
 ],
 "metadata": {
  "language_info": {
   "name": "python"
  },
  "orig_nbformat": 4
 },
 "nbformat": 4,
 "nbformat_minor": 2
}
