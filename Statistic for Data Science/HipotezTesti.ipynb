{
 "cells": [
  {
   "cell_type": "markdown",
   "metadata": {},
   "source": [
    "### Problem\n",
    "\n",
    "sepete üürn ekleme işlemi sorasında ödeme kranında beş adım vardır. \n",
    "\n",
    "ve bu adımların birisi sonrgulanmaktadır\n",
    "\n",
    "### Detaylar\n",
    "\n",
    "* Her adımın 20'şer saniye olması hedefi vardır\n",
    "\n",
    "* Bu durumu trst etmek için 100 örek alınıyor\n",
    "\n",
    "* Örnek standard sapması 5sn dir. Örnek ortalaması ise 19 sn dir\n",
    "\n"
   ]
  },
  {
   "cell_type": "markdown",
   "metadata": {},
   "source": [
    "\n",
    "?şimdi zaten alınann örneğin ortalamsı 19 çıkmış biz neden tekarra kontrol ediyoruz? \n",
    "\n",
    "bu sonucun şans eseri olup olmadığını isttistiksel olarak kontroll ediyoruz"
   ]
  },
  {
   "cell_type": "markdown",
   "metadata": {},
   "source": [
    "--------------"
   ]
  },
  {
   "cell_type": "markdown",
   "metadata": {},
   "source": [
    "\n",
    "\n",
    "\n",
    "m=ort\n"
   ]
  },
  {
   "cell_type": "markdown",
   "metadata": {},
   "source": [
    "\n",
    "\n",
    "\n",
    "\n",
    "# Hipotez Testi\n",
    "\n",
    "## Adım1: Hipotezin Kurulması ve Yönleirnin Belirlenmesi\n",
    "\n",
    "H0:m=20\n",
    "\n",
    "h1:m!=20\n",
    "\n",
    "\n",
    "## Adım2: Anlamlılık Düzeyinin ve Tablo Değerinin Belirlenmesi\n",
    "\n",
    "a=0.05 \n",
    "\n",
    "a/2=0.025 \n",
    "\n",
    "Not: hipotezimiz iki yönlü olduğıu için (= var < > ifasdesi yok) a değerinin ikiye bölüyoruz\n",
    "\n",
    "z tablo olasılık değeri=,5-0.025=0.475\n",
    "\n",
    "tabloya bakılır\n",
    "\n",
    "z tablo kritik değeri = -/+ 1.9\n",
    "\n",
    "## Test istatistiğinin belirlenmesi ve test istatistiğinin hesaplanması\n",
    "\n",
    "elimideki değerlerle t yada z istatistiğinni hesaplarız\n",
    "\n",
    "## Zhesap ve Ztablo karşolastırma\n",
    "\n",
    "Zhesap > Ztablo yada -Zhesap < Ztaplo ise H0 red :)) \n",
    "\n",
    "## Yorum\n",
    "\n",
    "4. adımda geçirilen sürenin 20 saniye olduğunu iddia eden H0 hipotezi red edilmiştir. \n",
    "\n",
    "Buna göre kullanıcılar istatiksel olarak  %95 güvenilirlik ile 20 saniden farlı zaman geçirmektedir"
   ]
  }
 ],
 "metadata": {
  "language_info": {
   "name": "python"
  },
  "orig_nbformat": 4
 },
 "nbformat": 4,
 "nbformat_minor": 2
}
