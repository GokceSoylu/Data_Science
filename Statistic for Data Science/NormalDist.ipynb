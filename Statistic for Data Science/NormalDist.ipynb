{
 "cells": [
  {
   "cell_type": "markdown",
   "metadata": {},
   "source": [
    "# Normal Dağılım\n",
    "\n",
    "sürekli değişken \n",
    "\n",
    "## Problem\n",
    "\n",
    "bir yatırım/toplantı öncesigelecek ay ile ilgili satışların\n",
    "\n",
    "belirli değerde gerçekleşmesi olasılıkları belirlenmek isteniyor\n",
    "\n",
    "## Detaylar\n",
    "\n",
    "* Dağılım normal olduğu biliniyor\n",
    "\n",
    "* Aylık ortalama satış sayısı 80K, standard sapması 5K\n",
    "\n",
    "* 90K dan fazla satış yapma olsalığı nedir?"
   ]
  },
  {
   "cell_type": "code",
   "execution_count": 1,
   "metadata": {},
   "outputs": [],
   "source": [
    "from scipy.stats import norm"
   ]
  },
  {
   "cell_type": "markdown",
   "metadata": {},
   "source": [
    "90 dan fazl olması"
   ]
  },
  {
   "cell_type": "markdown",
   "metadata": {},
   "source": [
    "burada ortalamnın olduğu bir grafik düşünelim ve istenen aralık \n",
    "\n",
    "grafiğin altında kaln belirli bir alan oluyor. \n",
    "\n",
    "bu yüzden 1- diyoruz çünkü tüm alan 1 oluyor. \n",
    "\n",
    "tüm alandan 90'a kadarki kısmı çıkartıyoruz.\n",
    "\n",
    "cdf cumulative dencty function kullanıyoruz. çünkü bir yığılma var"
   ]
  },
  {
   "cell_type": "code",
   "execution_count": 2,
   "metadata": {},
   "outputs": [
    {
     "data": {
      "text/plain": [
       "0.02275013194817921"
      ]
     },
     "execution_count": 2,
     "metadata": {},
     "output_type": "execute_result"
    }
   ],
   "source": [
    "1-norm.cdf(90,80,5)"
   ]
  },
  {
   "cell_type": "markdown",
   "metadata": {},
   "source": [
    "70 'den fazla"
   ]
  },
  {
   "cell_type": "code",
   "execution_count": 3,
   "metadata": {},
   "outputs": [
    {
     "data": {
      "text/plain": [
       "0.9772498680518208"
      ]
     },
     "execution_count": 3,
     "metadata": {},
     "output_type": "execute_result"
    }
   ],
   "source": [
    "1-norm.cdf(70,80,5)"
   ]
  },
  {
   "cell_type": "markdown",
   "metadata": {},
   "source": [
    "73'den az olması"
   ]
  },
  {
   "cell_type": "code",
   "execution_count": 4,
   "metadata": {},
   "outputs": [
    {
     "data": {
      "text/plain": [
       "0.08075665923377107"
      ]
     },
     "execution_count": 4,
     "metadata": {},
     "output_type": "execute_result"
    }
   ],
   "source": [
    "norm.cdf(73,80,5) #burada 1 den çıkartmadık zaten zaten verilen değere kadarki alanı hesaplıyor"
   ]
  },
  {
   "cell_type": "markdown",
   "metadata": {},
   "source": [
    "85 ile 90 arasında olmsı"
   ]
  },
  {
   "cell_type": "code",
   "execution_count": 6,
   "metadata": {},
   "outputs": [
    {
     "data": {
      "text/plain": [
       "-0.13590512198327787"
      ]
     },
     "execution_count": 6,
     "metadata": {},
     "output_type": "execute_result"
    }
   ],
   "source": [
    "norm.cdf(85,80,5)-norm.cdf(90,80,5) \n",
    "#ancak negatif değerden kurtulmak için büyük - küçük yaparız :))"
   ]
  },
  {
   "cell_type": "code",
   "execution_count": 7,
   "metadata": {},
   "outputs": [
    {
     "data": {
      "text/plain": [
       "0.13590512198327787"
      ]
     },
     "execution_count": 7,
     "metadata": {},
     "output_type": "execute_result"
    }
   ],
   "source": [
    "norm.cdf(90,80,5)-norm.cdf(85,80,5)"
   ]
  },
  {
   "cell_type": "code",
   "execution_count": null,
   "metadata": {},
   "outputs": [],
   "source": []
  }
 ],
 "metadata": {
  "kernelspec": {
   "display_name": "Python 3.9.6 64-bit",
   "language": "python",
   "name": "python3"
  },
  "language_info": {
   "codemirror_mode": {
    "name": "ipython",
    "version": 3
   },
   "file_extension": ".py",
   "mimetype": "text/x-python",
   "name": "python",
   "nbconvert_exporter": "python",
   "pygments_lexer": "ipython3",
   "version": "3.9.6"
  },
  "orig_nbformat": 4,
  "vscode": {
   "interpreter": {
    "hash": "31f2aee4e71d21fbe5cf8b01ff0e069b9275f58929596ceb00d14d90e3e16cd6"
   }
  }
 },
 "nbformat": 4,
 "nbformat_minor": 2
}
