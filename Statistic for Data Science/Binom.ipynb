{
 "cells": [
  {
   "cell_type": "markdown",
   "metadata": {},
   "source": [
    "# Binom Dağılımı\n",
    "\n",
    "${\\displaystyle f(k;n,p)=\\binom{n}{k} p^{k}(1-p)^{n-k} }$     k=0, 1, 2, ...., n\n",
    "\n",
    "${\\displaystyle \\operatorname {E} \\left (x\\right)=np}$\n",
    "\n",
    "$\\operatorname {Var} [X]=np(1-p)$ "
   ]
  },
  {
   "cell_type": "markdown",
   "metadata": {},
   "source": [
    "## Reklam Harcaması Optimizasyonu\n",
    "\n",
    "\n",
    "### Problem\n",
    "\n",
    "çeşitli mecrelara reklemlaar veriliyor, reklamların tıklanma ve geri dönüşüm\n",
    "\n",
    "oranları optimize edilmeye çalışılıyor. Buna yönelik olarak belirli bir \n",
    "\n",
    "mecrada çeşitli seneryoalara göre reklama tıklanma olasılıkları\n",
    "\n",
    "hesaplanmak isteniyor.\n",
    "\n",
    "### Detaylar\n",
    "\n",
    "* Bşr mecrada reklam verilecek\n",
    "\n",
    "* Dağılım ve reklama tıklanma olasılığı biliniyor (0.01)\n",
    "\n",
    "* **Soru:** Reklamı 100 kişi gördüğünde 1, 5,10 tıklanma olasılığı nedir?"
   ]
  },
  {
   "cell_type": "code",
   "execution_count": 1,
   "metadata": {},
   "outputs": [],
   "source": [
    "from scipy.stats import binom"
   ]
  },
  {
   "cell_type": "code",
   "execution_count": 3,
   "metadata": {},
   "outputs": [
    {
     "name": "stdout",
     "output_type": "stream",
     "text": [
      "1 :  0.3697296376497269\n",
      "5 :  0.002897787123761479\n",
      "10 :  7.006035693977195e-08\n"
     ]
    }
   ],
   "source": [
    "p=0.01\n",
    "n=100\n",
    "result=binom(n, p)\n",
    "print(\"1 : \",result.pmf(1))\n",
    "print(\"5 : \",result.pmf(5))\n",
    "print(\"10 : \",result.pmf(10))"
   ]
  },
  {
   "cell_type": "code",
   "execution_count": null,
   "metadata": {},
   "outputs": [],
   "source": []
  }
 ],
 "metadata": {
  "kernelspec": {
   "display_name": "Python 3.9.6 64-bit",
   "language": "python",
   "name": "python3"
  },
  "language_info": {
   "codemirror_mode": {
    "name": "ipython",
    "version": 3
   },
   "file_extension": ".py",
   "mimetype": "text/x-python",
   "name": "python",
   "nbconvert_exporter": "python",
   "pygments_lexer": "ipython3",
   "version": "3.9.6"
  },
  "orig_nbformat": 4,
  "vscode": {
   "interpreter": {
    "hash": "31f2aee4e71d21fbe5cf8b01ff0e069b9275f58929596ceb00d14d90e3e16cd6"
   }
  }
 },
 "nbformat": 4,
 "nbformat_minor": 2
}
