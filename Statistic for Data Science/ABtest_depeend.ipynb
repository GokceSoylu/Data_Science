{
 "cells": [
  {
   "cell_type": "markdown",
   "metadata": {},
   "source": [
    "# Bağımlı İki Örneklem T Testi\n",
    "\n",
    "H0:mö=ms\n",
    "\n",
    "H1:mö!=ms"
   ]
  },
  {
   "cell_type": "code",
   "execution_count": 20,
   "metadata": {},
   "outputs": [],
   "source": [
    "import pandas as pd\n",
    "import numpy as np\n",
    "import seaborn as sns\n",
    "import scipy.stats as stats\n",
    "from scipy.stats import shapiro"
   ]
  },
  {
   "cell_type": "code",
   "execution_count": 7,
   "metadata": {},
   "outputs": [],
   "source": [
    "before = pd.DataFrame([123,119,119,116,123,123,121,120,117,118,121,121,123,119,\n",
    "            121,118,124,121,125,115,115,119,118,121,117,117,120,120,\n",
    "            121,117,118,117,123,118,124,121,115,118,125,115])\n",
    "\n",
    "after = pd.DataFrame([118,127,122,132,129,123,129,132,128,130,128,138,140,130,\n",
    "             134,134,124,140,134,129,129,138,134,124,122,126,133,127,\n",
    "             130,130,130,132,117,130,125,129,133,120,127,123])"
   ]
  },
  {
   "cell_type": "code",
   "execution_count": 11,
   "metadata": {},
   "outputs": [
    {
     "name": "stdout",
     "output_type": "stream",
     "text": [
      "AYRIK veri seti:\n",
      "\n",
      "    BEFORE  AFTER\n",
      "0     123    118\n",
      "1     119    127\n",
      "2     119    122\n",
      "3     116    132\n",
      "4     123    129 \n",
      "\n",
      "\n"
     ]
    },
    {
     "data": {
      "text/html": [
       "<div>\n",
       "<style scoped>\n",
       "    .dataframe tbody tr th:only-of-type {\n",
       "        vertical-align: middle;\n",
       "    }\n",
       "\n",
       "    .dataframe tbody tr th {\n",
       "        vertical-align: top;\n",
       "    }\n",
       "\n",
       "    .dataframe thead th {\n",
       "        text-align: right;\n",
       "    }\n",
       "</style>\n",
       "<table border=\"1\" class=\"dataframe\">\n",
       "  <thead>\n",
       "    <tr style=\"text-align: right;\">\n",
       "      <th></th>\n",
       "      <th>PERFORMANCE</th>\n",
       "      <th>B/A</th>\n",
       "    </tr>\n",
       "  </thead>\n",
       "  <tbody>\n",
       "    <tr>\n",
       "      <th>0</th>\n",
       "      <td>123</td>\n",
       "      <td>BEFORE</td>\n",
       "    </tr>\n",
       "    <tr>\n",
       "      <th>1</th>\n",
       "      <td>119</td>\n",
       "      <td>BEFORE</td>\n",
       "    </tr>\n",
       "    <tr>\n",
       "      <th>2</th>\n",
       "      <td>119</td>\n",
       "      <td>BEFORE</td>\n",
       "    </tr>\n",
       "    <tr>\n",
       "      <th>3</th>\n",
       "      <td>116</td>\n",
       "      <td>BEFORE</td>\n",
       "    </tr>\n",
       "    <tr>\n",
       "      <th>4</th>\n",
       "      <td>123</td>\n",
       "      <td>BEFORE</td>\n",
       "    </tr>\n",
       "  </tbody>\n",
       "</table>\n",
       "</div>"
      ],
      "text/plain": [
       "   PERFORMANCE     B/A\n",
       "0          123  BEFORE\n",
       "1          119  BEFORE\n",
       "2          119  BEFORE\n",
       "3          116  BEFORE\n",
       "4          123  BEFORE"
      ]
     },
     "execution_count": 11,
     "metadata": {},
     "output_type": "execute_result"
    }
   ],
   "source": [
    "# veri Seti I\n",
    "AYRIK=pd.concat([before,after],axis=1)\n",
    "AYRIK.columns=[\"BEFORE\",\"AFTER\"]\n",
    "print(\"AYRIK veri seti:\\n\\n\",AYRIK.head(),\"\\n\\n\")\n",
    "\n",
    "\n",
    "\n",
    "# veri seti II\n",
    "#before flag/tag'ını oluşturma\n",
    "before_data=np.arange(len(before))\n",
    "before_data=pd.DataFrame(before_data)\n",
    "before_data[:]=\"BEFORE\"\n",
    "# flag ve before değerlerini bir araya getirme\n",
    "A=pd.concat([before,before_data],axis=1)\n",
    "\n",
    "#after flag/tag'ını oluşturma\n",
    "after_data=np.arange(len(after))\n",
    "after_data=pd.DataFrame(after_data)\n",
    "after_data[:]=\"AFTER\"\n",
    "#flag ve after değerlerini birleştirme\n",
    "B=pd.concat([after,after_data],axis=1)\n",
    "\n",
    "AB=pd.concat([A,B],axis=0)\n",
    "AB.columns=[\"PERFORMANCE\",\"B/A\"]\n",
    "AB.head()"
   ]
  },
  {
   "cell_type": "code",
   "execution_count": 12,
   "metadata": {},
   "outputs": [
    {
     "data": {
      "text/plain": [
       "<AxesSubplot: xlabel='B/A', ylabel='PERFORMANCE'>"
      ]
     },
     "execution_count": 12,
     "metadata": {},
     "output_type": "execute_result"
    },
    {
     "data": {
      "image/png": "[encoded data removed]",
      "text/plain": [
       "<Figure size 640x480 with 1 Axes>"
      ]
     },
     "metadata": {},
     "output_type": "display_data"
    }
   ],
   "source": [
    "sns.boxplot(x=\"B/A\", y=\"PERFORMANCE\", data=AB)"
   ]
  },
  {
   "cell_type": "markdown",
   "metadata": {},
   "source": [
    "grafikten after performasın daha iyi olduğu gözüküyor ancak bu durum şans eseri mi yoksa anlamlı bir fark var mı kontrolu yapıcaz"
   ]
  },
  {
   "cell_type": "code",
   "execution_count": 18,
   "metadata": {},
   "outputs": [
    {
     "data": {
      "text/plain": [
       "ShapiroResult(statistic=0.9543651342391968, pvalue=0.10722007602453232)"
      ]
     },
     "execution_count": 18,
     "metadata": {},
     "output_type": "execute_result"
    }
   ],
   "source": [
    "# Varsayım kontrolleri\n",
    "#NORMALLİK\n",
    "shapiro(AYRIK.BEFORE)"
   ]
  },
  {
   "cell_type": "code",
   "execution_count": 19,
   "metadata": {},
   "outputs": [
    {
     "data": {
      "text/plain": [
       "ShapiroResult(statistic=0.9780091047286987, pvalue=0.6159570813179016)"
      ]
     },
     "execution_count": 19,
     "metadata": {},
     "output_type": "execute_result"
    }
   ],
   "source": [
    "shapiro(AYRIK.AFTER)"
   ]
  },
  {
   "cell_type": "code",
   "execution_count": 25,
   "metadata": {},
   "outputs": [
    {
     "data": {
      "text/plain": [
       "LeveneResult(statistic=8.31303288672351, pvalue=0.0050844511807370246)"
      ]
     },
     "execution_count": 25,
     "metadata": {},
     "output_type": "execute_result"
    }
   ],
   "source": [
    "#varyans homojenliği kontrolü\n",
    "stats.levene(AYRIK.BEFORE, AYRIK.AFTER)\n",
    "\n",
    "#H0 ( : varyans homejendir) red edilir\n",
    "# varyans homojen değildir\n",
    "# iki ihtimal  var bu durum göz ardı edilebilir yada veri düzenlenebilir\n",
    "#göz ardı edicez"
   ]
  },
  {
   "cell_type": "code",
   "execution_count": 33,
   "metadata": {},
   "outputs": [],
   "source": [
    "test_istatistigi, pvalue=stats.ttest_rel(AYRIK.BEFORE, AYRIK.AFTER)"
   ]
  },
  {
   "cell_type": "code",
   "execution_count": 37,
   "metadata": {},
   "outputs": [
    {
     "name": "stdout",
     "output_type": "stream",
     "text": [
      "test istatistiği : -9.2815\n",
      "p değer : 0.0000\n"
     ]
    }
   ],
   "source": [
    "print(\"test istatistiği : %.4f\\np değer : %.4f\"%(test_istatistigi,pvalue))"
   ]
  },
  {
   "cell_type": "code",
   "execution_count": 38,
   "metadata": {},
   "outputs": [],
   "source": [
    "#H0 red! :))"
   ]
  },
  {
   "cell_type": "code",
   "execution_count": null,
   "metadata": {},
   "outputs": [],
   "source": []
  }
 ],
 "metadata": {
  "kernelspec": {
   "display_name": "Python 3.9.6 64-bit",
   "language": "python",
   "name": "python3"
  },
  "language_info": {
   "codemirror_mode": {
    "name": "ipython",
    "version": 3
   },
   "file_extension": ".py",
   "mimetype": "text/x-python",
   "name": "python",
   "nbconvert_exporter": "python",
   "pygments_lexer": "ipython3",
   "version": "3.9.6"
  },
  "orig_nbformat": 4,
  "vscode": {
   "interpreter": {
    "hash": "31f2aee4e71d21fbe5cf8b01ff0e069b9275f58929596ceb00d14d90e3e16cd6"
   }
  }
 },
 "nbformat": 4,
 "nbformat_minor": 2
}
