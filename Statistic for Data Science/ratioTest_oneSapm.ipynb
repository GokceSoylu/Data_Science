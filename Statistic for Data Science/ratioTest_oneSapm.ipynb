{
 "cells": [
  {
   "cell_type": "markdown",
   "metadata": {},
   "source": [
    "# Tek Ornkelem Oran Testi\n",
    "\n",
    "## İş uygulaması : Dönüşüm Oranı Testi\n",
    "\n",
    "dönüşüm oranı= ilgilenilen olay/ o olaya maruz kalan kişi\n",
    "\n",
    "* 500 kişi siteyi ziyaret ediyor\n",
    "\n",
    "* 40 kişi alış veriş yapıyor\n",
    "\n",
    "* elde edilen dönüşüm oranı: 40/500 = 0.08\n",
    "\n",
    "? H0: p=0.125\n",
    "\n",
    "? H1: p!=0.125"
   ]
  },
  {
   "cell_type": "code",
   "execution_count": 1,
   "metadata": {},
   "outputs": [],
   "source": [
    "from statsmodels.stats.proportion import proportions_ztest"
   ]
  },
  {
   "cell_type": "code",
   "execution_count": 2,
   "metadata": {},
   "outputs": [],
   "source": [
    "count=40\n",
    "nobs=500\n",
    "value=0.125"
   ]
  },
  {
   "cell_type": "code",
   "execution_count": 3,
   "metadata": {},
   "outputs": [
    {
     "data": {
      "text/plain": [
       "(-3.7090151628513017, 0.0002080669689845979)"
      ]
     },
     "execution_count": 3,
     "metadata": {},
     "output_type": "execute_result"
    }
   ],
   "source": [
    "proportions_ztest(count, nobs, 0.125)"
   ]
  },
  {
   "cell_type": "code",
   "execution_count": 5,
   "metadata": {},
   "outputs": [],
   "source": [
    "#p<0.05 o zaman H0 red!\n",
    "#demek ki geri dönüşüm oranı 0.125 değilmiş :))"
   ]
  }
 ],
 "metadata": {
  "kernelspec": {
   "display_name": "Python 3.9.6 64-bit",
   "language": "python",
   "name": "python3"
  },
  "language_info": {
   "codemirror_mode": {
    "name": "ipython",
    "version": 3
   },
   "file_extension": ".py",
   "mimetype": "text/x-python",
   "name": "python",
   "nbconvert_exporter": "python",
   "pygments_lexer": "ipython3",
   "version": "3.9.6"
  },
  "orig_nbformat": 4,
  "vscode": {
   "interpreter": {
    "hash": "31f2aee4e71d21fbe5cf8b01ff0e069b9275f58929596ceb00d14d90e3e16cd6"
   }
  }
 },
 "nbformat": 4,
 "nbformat_minor": 2
}
