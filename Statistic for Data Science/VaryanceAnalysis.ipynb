{
 "cells": [
  {
   "cell_type": "markdown",
   "metadata": {},
   "source": [
    "# Varyans Analizi\n",
    "\n",
    "**iki yada daha fazla** grup arasında istatistiksel olarak fark olup olmadığını anlamak için yapılır"
   ]
  },
  {
   "cell_type": "markdown",
   "metadata": {},
   "source": [
    "H0: m1=m2=m3\n",
    "\n",
    "H1: en az biri farlıdır"
   ]
  },
  {
   "cell_type": "markdown",
   "metadata": {},
   "source": [
    "üç adet varsayım vardır\n",
    "\n",
    "*  gruplar birbirinden bağımsızdır\n",
    "\n",
    "* normla dağılım\n",
    "\n",
    "* Varyans Homojenliği\n"
   ]
  },
  {
   "cell_type": "markdown",
   "metadata": {},
   "source": [
    "# İş Uygulaması\n",
    "\n",
    "## problem\n",
    "web sitrsinde geçiriilen zaman arttırılmak isteniyor\n",
    "\n",
    "## detaylar\n",
    "* Bir web sitesi başari kriterleri: ortalama ziyeret süresi, hemen çıkış ornaı vb\n",
    "* Uzun zaman geçiren kullanıcıların reklamlara daha fazla tıkladığı ve ve markaya olan bağımlılıklarının arttığı biliniyor\n",
    "* Buna yönelik olarak benzeer haberler farklı resimler yada farklı formatlarda hazırlanarak oluşturulan test gruplarına gösteriliyor\n",
    "* A:doğaş şekşlde, B::yölnedirici, C:ilgi çekici"
   ]
  },
  {
   "cell_type": "code",
   "execution_count": 1,
   "metadata": {},
   "outputs": [],
   "source": [
    "import pandas as pd\n",
    "import numpy as np"
   ]
  },
  {
   "cell_type": "code",
   "execution_count": 7,
   "metadata": {},
   "outputs": [
    {
     "data": {
      "text/html": [
       "<div>\n",
       "<style scoped>\n",
       "    .dataframe tbody tr th:only-of-type {\n",
       "        vertical-align: middle;\n",
       "    }\n",
       "\n",
       "    .dataframe tbody tr th {\n",
       "        vertical-align: top;\n",
       "    }\n",
       "\n",
       "    .dataframe thead th {\n",
       "        text-align: right;\n",
       "    }\n",
       "</style>\n",
       "<table border=\"1\" class=\"dataframe\">\n",
       "  <thead>\n",
       "    <tr style=\"text-align: right;\">\n",
       "      <th></th>\n",
       "      <th>Group_A</th>\n",
       "      <th>Group_B</th>\n",
       "      <th>Group_C</th>\n",
       "    </tr>\n",
       "  </thead>\n",
       "  <tbody>\n",
       "    <tr>\n",
       "      <th>0</th>\n",
       "      <td>28</td>\n",
       "      <td>31</td>\n",
       "      <td>40</td>\n",
       "    </tr>\n",
       "    <tr>\n",
       "      <th>1</th>\n",
       "      <td>33</td>\n",
       "      <td>32</td>\n",
       "      <td>33</td>\n",
       "    </tr>\n",
       "    <tr>\n",
       "      <th>2</th>\n",
       "      <td>30</td>\n",
       "      <td>30</td>\n",
       "      <td>38</td>\n",
       "    </tr>\n",
       "    <tr>\n",
       "      <th>3</th>\n",
       "      <td>29</td>\n",
       "      <td>30</td>\n",
       "      <td>41</td>\n",
       "    </tr>\n",
       "    <tr>\n",
       "      <th>4</th>\n",
       "      <td>28</td>\n",
       "      <td>33</td>\n",
       "      <td>42</td>\n",
       "    </tr>\n",
       "  </tbody>\n",
       "</table>\n",
       "</div>"
      ],
      "text/plain": [
       "   Group_A  Group_B  Group_C\n",
       "0       28       31       40\n",
       "1       33       32       33\n",
       "2       30       30       38\n",
       "3       29       30       41\n",
       "4       28       33       42"
      ]
     },
     "execution_count": 7,
     "metadata": {},
     "output_type": "execute_result"
    }
   ],
   "source": [
    "A = pd.DataFrame([28,33,30,29,28,29,27,31,30,32,28,33,25,29,27,31,31,30,31,34,30,32,31,34,28,32,31,28,33,29])\n",
    "\n",
    "B = pd.DataFrame([31,32,30,30,33,32,34,27,36,30,31,30,38,29,30,34,34,31,35,35,33,30,28,29,26,37,31,28,34,33])\n",
    "\n",
    "C = pd.DataFrame([40,33,38,41,42,43,38,35,39,39,36,34,35,40,38,36,39,36,33,35,38,35,40,40,39,38,38,43,40,42])\n",
    "\n",
    "list = [A, B, C]\n",
    "\n",
    "ABC = pd.concat(list, axis = 1)\n",
    "ABC.columns = [\"Group_A\",\"Group_B\",\"Group_C\"]\n",
    "ABC.head()"
   ]
  },
  {
   "cell_type": "code",
   "execution_count": 12,
   "metadata": {},
   "outputs": [
    {
     "name": "stdout",
     "output_type": "stream",
     "text": [
      "for grup A: ShapiroResult(statistic=0.969743013381958, pvalue=0.5321668386459351)\n",
      "for grup B: ShapiroResult(statistic=0.9789856672286987, pvalue=0.7979850172996521)\n",
      "for grı-up C: ShapiroResult(statistic=0.9579201340675354, pvalue=0.273820161819458)\n"
     ]
    }
   ],
   "source": [
    "# Normallik kontrolü\n",
    "from scipy.stats import shapiro\n",
    "print(\"for grup A:\",shapiro(ABC[\"Group_A\"])) \n",
    "print(\"for grup B:\",shapiro(ABC[\"Group_B\"]))\n",
    "print(\"for grı-up C:\",shapiro(ABC[\"Group_C\"]))"
   ]
  },
  {
   "cell_type": "code",
   "execution_count": 13,
   "metadata": {},
   "outputs": [
    {
     "data": {
      "text/plain": [
       "LeveneResult(statistic=1.0267403645055275, pvalue=0.36247110117417064)"
      ]
     },
     "execution_count": 13,
     "metadata": {},
     "output_type": "execute_result"
    }
   ],
   "source": [
    "#varyans Homojenliği\n",
    "import scipy.stats as stats\n",
    "stats.levene(ABC[\"Group_A\"],ABC[\"Group_B\"],ABC[\"Group_C\"])"
   ]
  },
  {
   "cell_type": "markdown",
   "metadata": {},
   "source": [
    "hocam aklılarda var mı bir doru nedit bu varyans homojenliği?\n",
    "\n",
    "bir var hesabımız vardı hetırlıyromusun. \n",
    "\n",
    "varyans hesaplıyorduk işte iki grubun varyansları birbirine benzer olmalıdır bu jadar :))"
   ]
  },
  {
   "cell_type": "code",
   "execution_count": 16,
   "metadata": {},
   "outputs": [
    {
     "name": "stdout",
     "output_type": "stream",
     "text": [
      "iststistik :74.6928\n",
      "p değeri 0.0000\n"
     ]
    }
   ],
   "source": [
    "# HİPOTEZi test edelim\n",
    "from scipy.stats import f_oneway\n",
    "print(\"iststistik :%.4f\\np değeri %.4f\"%(f_oneway(ABC[\"Group_A\"],ABC[\"Group_B\"],ABC[\"Group_C\"])))"
   ]
  },
  {
   "cell_type": "code",
   "execution_count": 15,
   "metadata": {},
   "outputs": [],
   "source": [
    "# pvalue<0.05 H0 (:m1=m2=m3) red! :))"
   ]
  },
  {
   "cell_type": "markdown",
   "metadata": {},
   "source": [
    "### NON-Parametrik Hipotez Testi\n",
    "\n",
    "hipotez testşnden önce üç adet varsayımı kontrol ettik. bağimsilik, normallik, varyans homojenliği\n",
    "\n",
    "yukarıdaki varsayımalrımızın tutarsa direkt hipotez testine geçiyprduk (f_oneway) ancak vaarsayımlarımız sağlanmaışsa işte o zaman nonparametrik kısma geçiyoruz\n",
    "\n",
    "kruskal fonknsiyonu ile hipotezimizi tst ederiz"
   ]
  },
  {
   "cell_type": "code",
   "execution_count": 17,
   "metadata": {},
   "outputs": [],
   "source": [
    "from scipy.stats import kruskal"
   ]
  },
  {
   "cell_type": "code",
   "execution_count": 19,
   "metadata": {},
   "outputs": [
    {
     "name": "stdout",
     "output_type": "stream",
     "text": [
      "istatik : 54.1982\n",
      "p değeri : 0.0000\n"
     ]
    }
   ],
   "source": [
    "print(\"istatik : %.4f\\np değeri : %.4f\"%(kruskal(ABC[\"Group_A\"],ABC[\"Group_B\"],ABC[\"Group_C\"])))\n",
    "#H0 red:))"
   ]
  }
 ],
 "metadata": {
  "kernelspec": {
   "display_name": "Python 3.9.6 64-bit",
   "language": "python",
   "name": "python3"
  },
  "language_info": {
   "codemirror_mode": {
    "name": "ipython",
    "version": 3
   },
   "file_extension": ".py",
   "mimetype": "text/x-python",
   "name": "python",
   "nbconvert_exporter": "python",
   "pygments_lexer": "ipython3",
   "version": "3.9.6"
  },
  "orig_nbformat": 4,
  "vscode": {
   "interpreter": {
    "hash": "31f2aee4e71d21fbe5cf8b01ff0e069b9275f58929596ceb00d14d90e3e16cd6"
   }
  }
 },
 "nbformat": 4,
 "nbformat_minor": 2
}
