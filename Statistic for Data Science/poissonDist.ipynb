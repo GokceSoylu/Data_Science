{
 "cells": [
  {
   "cell_type": "markdown",
   "metadata": {},
   "source": [
    "# Poissson Dağılımı\n",
    "\n",
    "gözlem sayısı yüksek olsalık düşük olan durumalr için kullanılır\n",
    "## Problem\n",
    "\n",
    "hatalı ilan girişi olasılıkları hesaplanmak isteniyor\n",
    "\n",
    "## Detaylar\n",
    "\n",
    "* Bir yıl süresince işlmeler yapılıyor\n",
    "\n",
    "* Dağılım biliniyor(Poisson) v eLambda 0.1 (ortalama hata sayısı)\n",
    "\n",
    "* Hiç hata olmaması, 3 hata olması ve 5 hata olması olsaılıkları nedir?"
   ]
  },
  {
   "cell_type": "code",
   "execution_count": 1,
   "metadata": {},
   "outputs": [],
   "source": [
    "from scipy.stats import poisson"
   ]
  },
  {
   "cell_type": "code",
   "execution_count": 2,
   "metadata": {},
   "outputs": [],
   "source": [
    "lambda_=0.1"
   ]
  },
  {
   "cell_type": "code",
   "execution_count": 5,
   "metadata": {},
   "outputs": [],
   "source": [
    "pos=poisson(mu=lambda_)"
   ]
  },
  {
   "cell_type": "code",
   "execution_count": 6,
   "metadata": {},
   "outputs": [
    {
     "name": "stdout",
     "output_type": "stream",
     "text": [
      "hatasiz:  0.9048374180359595\n",
      "3 hat: 0.00015080623633932676\n",
      "5 hata: 7.54031181696634e-08\n"
     ]
    }
   ],
   "source": [
    "print(\"hatasiz: \",pos.pmf(0))\n",
    "print(\"3 hat:\",pos.pmf(3))\n",
    "print(\"5 hata:\",pos.pmf(5))"
   ]
  }
 ],
 "metadata": {
  "kernelspec": {
   "display_name": "Python 3.9.6 64-bit",
   "language": "python",
   "name": "python3"
  },
  "language_info": {
   "codemirror_mode": {
    "name": "ipython",
    "version": 3
   },
   "file_extension": ".py",
   "mimetype": "text/x-python",
   "name": "python",
   "nbconvert_exporter": "python",
   "pygments_lexer": "ipython3",
   "version": "3.9.6"
  },
  "orig_nbformat": 4,
  "vscode": {
   "interpreter": {
    "hash": "31f2aee4e71d21fbe5cf8b01ff0e069b9275f58929596ceb00d14d90e3e16cd6"
   }
  }
 },
 "nbformat": 4,
 "nbformat_minor": 2
}
